{
 "cells": [
  {
   "cell_type": "code",
   "execution_count": 1,
   "metadata": {},
   "outputs": [],
   "source": [
    "# Include Dependencies\n",
    "import numpy as np # linear algebra\n",
    "import pandas as pd # data processing, CSV file I/O (e.g. pd.read_csv)\n",
    "from matplotlib import pyplot as plt # for plotting graphs\n",
    "import seaborn as sns# statistical data visualization library\n",
    "from functools import cmp_to_key\n",
    "\n",
    "from sklearn import metrics\n",
    "import math\n",
    "import tensorflow as tf\n",
    "from tensorflow.python.data import Dataset\n",
    "\n",
    "train = pd.read_csv('train.csv')\n",
    "test = pd.read_csv('test.csv')"
   ]
  },
  {
   "cell_type": "code",
   "execution_count": null,
   "metadata": {},
   "outputs": [],
   "source": [
    "train['Embarked']"
   ]
  },
  {
   "cell_type": "code",
   "execution_count": null,
   "metadata": {},
   "outputs": [],
   "source": [
    "train.loc[train['Age'] < 16]\n"
   ]
  },
  {
   "cell_type": "code",
   "execution_count": null,
   "metadata": {},
   "outputs": [],
   "source": [
    "train.loc[train['Age'] > 20]"
   ]
  },
  {
   "cell_type": "code",
   "execution_count": null,
   "metadata": {},
   "outputs": [],
   "source": [
    "test.head(800)"
   ]
  },
  {
   "cell_type": "code",
   "execution_count": 2,
   "metadata": {},
   "outputs": [],
   "source": [
    "#Fill Embarked NA and convert object to strings\n",
    "train['Embarked'].fillna('S', inplace = True)\n",
    "train.apply(lambda x = type(object): str(x))\n",
    "#train = pd.get_dummies(data=train, columns=['Embarked'])\n",
    "\n",
    "#del train['Embarked']\n",
    "#train['Embarked'] = col_as_string\n",
    "\n",
    "#Fill Age NA\n",
    "train['Age'].fillna(-1, inplace = True)\n"
   ]
  },
  {
   "cell_type": "code",
   "execution_count": 3,
   "metadata": {},
   "outputs": [],
   "source": [
    "def get_title(name):\n",
    "    start = name.find(', ', 0) + 2\n",
    "    end = name.find('.', start)\n",
    "    return(name[start:end])\n",
    "    \n",
    "train['Title']=train['Name'].map(lambda x: get_title(x))\n",
    "test['Title']=test['Name'].map(lambda x: get_title(x))"
   ]
  },
  {
   "cell_type": "code",
   "execution_count": 4,
   "metadata": {},
   "outputs": [
    {
     "data": {
      "text/plain": [
       "PassengerId      int64\n",
       "Survived         int64\n",
       "Pclass           int64\n",
       "Name            object\n",
       "Sex             object\n",
       "Age            float64\n",
       "SibSp            int64\n",
       "Parch            int64\n",
       "Ticket          object\n",
       "Fare           float64\n",
       "Cabin           object\n",
       "Embarked        object\n",
       "Title           object\n",
       "dtype: object"
      ]
     },
     "execution_count": 4,
     "metadata": {},
     "output_type": "execute_result"
    }
   ],
   "source": [
    "train.dtypes"
   ]
  },
  {
   "cell_type": "code",
   "execution_count": 12,
   "metadata": {},
   "outputs": [],
   "source": [
    "def rebucket_title(title):\n",
    "#    title = str(title)\n",
    "    if title == 'Don':\n",
    "        title = 'Mr'\n",
    "    elif title == 'Rev':\n",
    "        title = 'Mr'\n",
    "    elif title == 'Dr':\n",
    "        title = 'Mr'\n",
    "    elif title == 'Mme':\n",
    "        title = 'Miss'\n",
    "    elif title == 'Major':\n",
    "        title = 'Crew'\n",
    "    elif title == 'Lady':\n",
    "        title = 'Mrs'\n",
    "    elif title == 'Sir':\n",
    "        title = 'Mr'\n",
    "    elif title == 'Mlle':\n",
    "        title = 'Miss'\n",
    "    elif title == 'Col':\n",
    "        title = 'Crew'\n",
    "    elif title == 'Capt':\n",
    "        title = 'Crew'\n",
    "    elif title == 'the Countess':\n",
    "        title = 'Mrs'\n",
    "    elif title == 'Jonkheer':\n",
    "        title = 'Mrs'\n",
    "    elif title == 'Dona':\n",
    "        title = 'Mrs'\n",
    "    elif title == 'Ms':\n",
    "        title = 'Mrs'\n",
    "    return (title)"
   ]
  },
  {
   "cell_type": "code",
   "execution_count": 6,
   "metadata": {},
   "outputs": [
    {
     "data": {
      "text/plain": [
       "'Mr'"
      ]
     },
     "execution_count": 6,
     "metadata": {},
     "output_type": "execute_result"
    }
   ],
   "source": [
    "rebucket_title('Sir')"
   ]
  },
  {
   "cell_type": "code",
   "execution_count": 13,
   "metadata": {},
   "outputs": [],
   "source": [
    "train['Title'] = train['Title'].apply(lambda x: rebucket_title(x))\n",
    "test['Title'] = test['Title'].apply(lambda x: rebucket_title(x))"
   ]
  },
  {
   "cell_type": "code",
   "execution_count": 14,
   "metadata": {},
   "outputs": [
    {
     "data": {
      "text/plain": [
       "array(['Mr', 'Mrs', 'Miss', 'Master', 'Crew'], dtype=object)"
      ]
     },
     "execution_count": 14,
     "metadata": {},
     "output_type": "execute_result"
    }
   ],
   "source": [
    "train['Title'].unique()\n"
   ]
  },
  {
   "cell_type": "code",
   "execution_count": 15,
   "metadata": {},
   "outputs": [
    {
     "data": {
      "text/plain": [
       "array(['Mr', 'Mrs', 'Miss', 'Master', 'Crew'], dtype=object)"
      ]
     },
     "execution_count": 15,
     "metadata": {},
     "output_type": "execute_result"
    }
   ],
   "source": [
    "test['Title'].unique()"
   ]
  },
  {
   "cell_type": "code",
   "execution_count": 16,
   "metadata": {},
   "outputs": [
    {
     "data": {
      "text/plain": [
       "<matplotlib.axes._subplots.AxesSubplot at 0x7f5f44c00860>"
      ]
     },
     "execution_count": 16,
     "metadata": {},
     "output_type": "execute_result"
    },
    {
     "data": {
      "image/png": "[encoded data removed]",
      "text/plain": [
       "<Figure size 432x288 with 1 Axes>"
      ]
     },
     "metadata": {
      "needs_background": "light"
     },
     "output_type": "display_data"
    }
   ],
   "source": [
    "sns.countplot(x='Title', data=train)"
   ]
  },
  {
   "cell_type": "code",
   "execution_count": 17,
   "metadata": {},
   "outputs": [
    {
     "data": {
      "text/plain": [
       "<matplotlib.axes._subplots.AxesSubplot at 0x7f5f42a0dc18>"
      ]
     },
     "execution_count": 17,
     "metadata": {},
     "output_type": "execute_result"
    },
    {
     "data": {
      "image/png": "[encoded data removed]",
      "text/plain": [
       "<Figure size 432x288 with 1 Axes>"
      ]
     },
     "metadata": {
      "needs_background": "light"
     },
     "output_type": "display_data"
    }
   ],
   "source": [
    "sns.countplot(x='Title', data=test)"
   ]
  },
  {
   "cell_type": "code",
   "execution_count": null,
   "metadata": {},
   "outputs": [],
   "source": [
    "\n",
    "histogram_age = pd.read_csv('train.csv')\n",
    "histogram_age['Age'].fillna(0, inplace = True)"
   ]
  },
  {
   "cell_type": "code",
   "execution_count": null,
   "metadata": {},
   "outputs": [],
   "source": [
    "histogram_age[['Age']].plot.hist()"
   ]
  },
  {
   "cell_type": "code",
   "execution_count": null,
   "metadata": {},
   "outputs": [],
   "source": [
    "histogram_age.plot.scatter(x = 'Age', y = 'Survived')"
   ]
  },
  {
   "cell_type": "code",
   "execution_count": null,
   "metadata": {},
   "outputs": [],
   "source": [
    "train['Embarked']"
   ]
  },
  {
   "cell_type": "code",
   "execution_count": null,
   "metadata": {},
   "outputs": [],
   "source": [
    "train = pd.get_dummies(data=train, columns=['Sex'])"
   ]
  },
  {
   "cell_type": "code",
   "execution_count": null,
   "metadata": {},
   "outputs": [],
   "source": [
    "train.dtypes"
   ]
  },
  {
   "cell_type": "code",
   "execution_count": null,
   "metadata": {},
   "outputs": [],
   "source": [
    "plot_columns = ['Survived', 'Pclass', 'Sex_female', 'Sex_male', 'Age', 'SibSp', 'Parch', 'Fare', 'Embarked']\n",
    "type(train[plot_columns])"
   ]
  },
  {
   "cell_type": "code",
   "execution_count": null,
   "metadata": {
    "scrolled": false
   },
   "outputs": [],
   "source": [
    "sns.pairplot(train[plot_columns])"
   ]
  },
  {
   "cell_type": "code",
   "execution_count": null,
   "metadata": {},
   "outputs": [],
   "source": [
    "train[plot_columns]\n",
    "corr = train[plot_columns].corr()\n",
    "sns.heatmap(corr)"
   ]
  },
  {
   "cell_type": "code",
   "execution_count": null,
   "metadata": {},
   "outputs": [],
   "source": [
    "train['Age'].plot.hist()"
   ]
  },
  {
   "cell_type": "code",
   "execution_count": null,
   "metadata": {},
   "outputs": [],
   "source": [
    "sns.jointplot(x = 'Age', y = 'Survived', data = train, kind ='hex', gridsize = 40)"
   ]
  },
  {
   "cell_type": "code",
   "execution_count": null,
   "metadata": {},
   "outputs": [],
   "source": [
    "def min2(l, default = 0.0):\n",
    "    if len(l) == 0:\n",
    "        return default\n",
    "    else:\n",
    "        return min(l)\n",
    "\n",
    "def max2(l, default = 0.0):\n",
    "    if len(l) == 0:\n",
    "        return default\n",
    "    else:\n",
    "        return max(l)\n",
    "\n",
    "def avg2(l, default = 0.0):\n",
    "    if len(l) == 0:\n",
    "        return default\n",
    "    else:\n",
    "        return float(sum(l)) / float(len(l))\n",
    "\n",
    "def std2(l, default = 0.0):\n",
    "    if len(l) == 0:\n",
    "        return default\n",
    "    else:\n",
    "        return np.std(l)\n",
    "\n",
    "def histogram_for_non_numerical_series(s):\n",
    "    d = {}\n",
    "    for v in s:\n",
    "        d[v] = d.get(v, 0) + 1\n",
    "    bin_s_label = list(d.keys())\n",
    "    bin_s_label.sort()\n",
    "    bin_s = list(range(0, len(bin_s_label)))\n",
    "    hist_s = [d[v] for v in bin_s_label]\n",
    "    bin_s.append(len(bin_s))\n",
    "    bin_s_label.insert(0, '_')\n",
    "    return (hist_s, bin_s, bin_s_label)\n",
    "    \n",
    "def plot_hist_with_target3(plt, df, feature, target, histogram_bins = 10):\n",
    "    # reference:\n",
    "    #    https://stackoverflow.com/questions/33328774/box-plot-with-min-max-average-and-standard-deviation\n",
    "    #    https://matplotlib.org/gallery/api/two_scales.html \n",
    "    #    https://matplotlib.org/1.2.1/examples/pylab_examples/errorbar_demo.html\n",
    "    #    https://matplotlib.org/2.0.0/examples/color/named_colors.html\n",
    "    #    https://matplotlib.org/api/_as_gen/matplotlib.pyplot.xticks.html\n",
    "    title = feature\n",
    "    plt.title(title)\n",
    "    s = df[feature]\n",
    "    t = df[target]\n",
    "    t_max = max(t)\n",
    "    # get histogram of the feature\n",
    "    bin_s_label = None\n",
    "    # fillna with 0.0 or '_N/A_'\n",
    "    na_cnt = sum(s.isna())\n",
    "    if na_cnt > 0:\n",
    "        if True in [type(_) == str for _ in s]:\n",
    "            print('found %d na in string field %s' % (na_cnt, feature))\n",
    "            s = s.fillna('_N/A_')\n",
    "        else:\n",
    "            print('found %d na in numerical field %s' % (na_cnt, feature))\n",
    "            s = s.fillna(-1.0)\n",
    "    try:\n",
    "        hist_s, bin_s = np.histogram(s, bins = histogram_bins)\n",
    "    except Exception as e:\n",
    "        # print('ERROR: failed to draw histogram for %s: %s: %s' % (name, type(e).__name__, str(e)))\n",
    "        hist_s, bin_s, bin_s_label = histogram_for_non_numerical_series(s)\n",
    "        # return\n",
    "    # histogram of target by distribution of feature\n",
    "    hist_t_by_s_cnt = [0] * (len(bin_s) - 1)\n",
    "    hist_t_by_s = [] \n",
    "    for i in range(0, (len(bin_s) - 1)):\n",
    "        hist_t_by_s.append([])\n",
    "    # get target histogram for numerical feature\n",
    "    if bin_s_label is None:\n",
    "        for (sv, tv) in zip(s, t):\n",
    "            pos = 0\n",
    "            for i in range(0, len(bin_s) - 1):\n",
    "                if sv >= bin_s[i]:\n",
    "                    pos = i\n",
    "            hist_t_by_s_cnt[pos] += 1\n",
    "            hist_t_by_s[pos].append(tv)\n",
    "    else:\n",
    "        for (sv, tv) in zip(s, t):\n",
    "            pos = bin_s_label.index(sv) - 1\n",
    "            hist_t_by_s_cnt[pos] += 1\n",
    "            hist_t_by_s[pos].append(tv)\n",
    "        # count avg, to re-sort bin_s and bin_s_label by avg\n",
    "        hist_t_by_s_avg = [float(avg2(n)) for n in hist_t_by_s]\n",
    "        # hist_t_by_s_std = [float(std2(n)) for n in hist_t_by_s]\n",
    "        # hist_t_by_s_adj = list(np.array(hist_t_by_s_avg) + np.array(hist_t_by_s_std))\n",
    "        hist_t_by_s_adj = hist_t_by_s_avg\n",
    "        # print('before sort:\\n%s\\n%s\\n%s' % (bin_s, bin_s_label, hist_t_by_s_adj))\n",
    "        bin_hist_label = list(zip(bin_s[1:], hist_t_by_s_adj, bin_s_label[1:]))\n",
    "        bin_hist_label.sort(key = cmp_to_key(lambda x, y: x[1] - y[1]))\n",
    "        (bin_s, hist_t_by_s_adj, bin_s_label) = zip(*bin_hist_label)\n",
    "        bin_s = list(bin_s)\n",
    "        hist_t_by_s_adj = list(hist_t_by_s_adj)\n",
    "        bin_s_label = list(bin_s_label)\n",
    "        bin_s.insert(0, 0)\n",
    "        bin_s_label.insert(0, '_')\n",
    "        # re-arrange hist_s and hist_t_by_s\n",
    "        hist_s_new = []\n",
    "        hist_t_by_s_new = []\n",
    "        for i in bin_s[1:]:\n",
    "            hist_s_new.append(hist_s[i - 1])\n",
    "            hist_t_by_s_new.append(hist_t_by_s[i - 1])\n",
    "        hist_s = hist_s_new\n",
    "        hist_t_by_s = hist_t_by_s_new\n",
    "        # print('after sort:\\n%s\\n%s\\n%s' % (bin_s, bin_s_label, hist_t_by_s_adj))\n",
    "        # reset bin_s's ordering\n",
    "        bin_s.sort()\n",
    "    hist_s = list(hist_s)\n",
    "    if len(hist_s) < len(bin_s):\n",
    "        hist_s.insert(0, 0.0)\n",
    "    hist_s_max = max(hist_s)\n",
    "    plt.fill_between(bin_s, hist_s, step = 'mid', alpha = 0.5, label = feature)\n",
    "    if bin_s_label is not None:\n",
    "        plt.xticks(bin_s, bin_s_label)\n",
    "    plt.xticks(rotation = 90)\n",
    "    # just to show legend for ax2\n",
    "    # plt.errorbar([], [], yerr = [], fmt = 'ok', lw = 3, ecolor = 'sienna', mfc = 'sienna', label = target)\n",
    "    plt.legend(loc = 'upper right')\n",
    "    hist_t_by_s = list(hist_t_by_s)\n",
    "    if len(hist_t_by_s) < len(bin_s):\n",
    "        hist_t_by_s.insert(0, [0.0])\n",
    "    hist_t_by_s_min = [float(min2(n)) for n in hist_t_by_s]\n",
    "    hist_t_by_s_max = [float(max2(n)) for n in hist_t_by_s]\n",
    "    hist_t_by_s_avg = [float(avg2(n)) for n in hist_t_by_s]\n",
    "    hist_t_by_s_std = [float(std2(n)) for n in hist_t_by_s]\n",
    "    hist_t_by_s_err = [np.array(hist_t_by_s_avg) - np.array(hist_t_by_s_min), np.array(hist_t_by_s_max) - np.array(hist_t_by_s_avg)]\n",
    "    plt.xlabel(feature)\n",
    "    plt.ylabel('Count')\n",
    "    ax2 = plt.twinx()\n",
    "    ax2.grid(False)\n",
    "    ax2.errorbar(bin_s, hist_t_by_s_avg, yerr = hist_t_by_s_err, fmt='.k', lw = 1, ecolor = 'sienna')\n",
    "    ax2.errorbar(bin_s, hist_t_by_s_avg, yerr = hist_t_by_s_std, fmt='ok', lw = 3, ecolor = 'sienna', mfc = 'sienna', label = target)\n",
    "    ax2.set_ylabel(target)\n",
    "    plt.legend(loc = 'upper left')\n",
    "    plt.tight_layout()"
   ]
  },
  {
   "cell_type": "code",
   "execution_count": null,
   "metadata": {},
   "outputs": [],
   "source": [
    "plt.figure(figsize = (100, 200))\n",
    "i = 1\n",
    "for name in histogram_age.keys():\n",
    "    plt.subplot(21, 4, i)\n",
    "    plot_hist_with_target3(plt, train, name, 'Survived', histogram_bins = 'histogram_age')\n",
    "    i += 1\n",
    "plt.tight_layout()"
   ]
  },
  {
   "cell_type": "code",
   "execution_count": null,
   "metadata": {},
   "outputs": [],
   "source": []
  }
 ],
 "metadata": {
  "kernelspec": {
   "display_name": "Python 3",
   "language": "python",
   "name": "python3"
  },
  "language_info": {
   "codemirror_mode": {
    "name": "ipython",
    "version": 3
   },
   "file_extension": ".py",
   "mimetype": "text/x-python",
   "name": "python",
   "nbconvert_exporter": "python",
   "pygments_lexer": "ipython3",
   "version": "3.6.7"
  }
 },
 "nbformat": 4,
 "nbformat_minor": 2
}
