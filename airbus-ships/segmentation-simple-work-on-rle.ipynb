{
 "cells": [
  {
   "cell_type": "markdown",
   "metadata": {
    "_cell_guid": "c0aec281-7c77-47a3-93a4-fa9fd60d769b",
    "_uuid": "95d6afa39351e98be3936556308332159a7bb3de"
   },
   "source": []
  },
  {
   "cell_type": "code",
   "execution_count": 1,
   "metadata": {
    "_cell_guid": "10a78a0f-a59e-4169-bf98-9f3b4bf80658",
    "_uuid": "18a45ce12e9b1a12bf899db85be280273924e4f5"
   },
   "outputs": [],
   "source": [
    "#Import dependencies\n",
    "import os\n",
    "import pandas as pd\n",
    "import numpy as np\n",
    "import scipy.misc\n",
    "import tensorflow as tf\n",
    "import time\n",
    "from matplotlib.pyplot import imshow\n",
    "from PIL import Image\n",
    "from skimage.transform import resize\n",
    "import imageio as im\n",
    "%matplotlib inline\n",
    "\n",
    "import matplotlib.pyplot as plt\n",
    "import gc\n",
    "\n"
   ]
  },
  {
   "cell_type": "code",
   "execution_count": 2,
   "metadata": {},
   "outputs": [],
   "source": [
    "# Run length encoding and decoding\n",
    "def rle_encode(img):\n",
    "    '''\n",
    "    img: numpy array, 1 - mask, 0 - background\n",
    "    Returns run length as string formated\n",
    "    '''\n",
    "    pixels = img.T.flatten()\n",
    "    pixels = np.concatenate([[0], pixels, [0]])\n",
    "    runs = np.where(pixels[1:] != pixels[:-1])[0] + 1\n",
    "    runs[1::2] -= runs[::2]\n",
    "    return ' '.join(str(x) for x in runs)\n",
    "\n",
    "# ref: https://www.kaggle.com/paulorzp/run-length-encode-and-decode\n",
    "def rle_decode(mask_rle, shape=(768, 768)):\n",
    "    '''\n",
    "    mask_rle: run-length as string formated (start length)\n",
    "    shape: (height,width) of array to return \n",
    "    Returns numpy array, 1 - mask, 0 - background\n",
    "\n",
    "    '''\n",
    "    s = mask_rle.split()\n",
    "    starts, lengths = [np.asarray(x, dtype=int) for x in (s[0:][::2], s[1:][::2])]\n",
    "    starts -= 1\n",
    "    ends = starts + lengths\n",
    "    img = np.zeros(shape[0]*shape[1], dtype=np.float32)\n",
    "    for lo, hi in zip(starts, ends):\n",
    "        img[lo:hi] = 1\n",
    "    return img.reshape(shape).T  # Needed to align to RLE direction"
   ]
  },
  {
   "cell_type": "code",
   "execution_count": 3,
   "metadata": {},
   "outputs": [
    {
     "name": "stderr",
     "output_type": "stream",
     "text": [
      "/home/jun_inthebay/anaconda3/lib/python3.6/site-packages/ipykernel_launcher.py:13: FutureWarning: from_csv is deprecated. Please use read_csv(...) instead. Note that some of the default arguments are different, so please refer to the documentation for from_csv when changing your function calls\n",
      "  del sys.path[0]\n"
     ]
    }
   ],
   "source": [
    "#samples\n",
    "samples = 10\n",
    "\n",
    "#Get train images with only ships\n",
    "masks = pd.read_csv('train_ship_segmentations_v2.csv')\n",
    "train = masks.dropna()\n",
    "del train['EncodedPixels']\n",
    "\n",
    "train_img_files = train.sample(samples)\n",
    "train_img_files = train_img_files.to_dict('ImageId')\n",
    "\n",
    "#train_sample = train_img_list.sample(10)\n",
    "preds = pd.DataFrame.from_csv('submissionv4_1.csv')\n",
    "ship_images = preds[(preds['exist_ship'] == 1)]\n",
    "test_img_files = ship_images.to_dict('ImageId')\n",
    "\n"
   ]
  },
  {
   "cell_type": "code",
   "execution_count": 4,
   "metadata": {},
   "outputs": [
    {
     "data": {
      "text/plain": [
       "\"\\ntrain_v2 = os.listdir('./train')\\nmasks = pd.read_csv('train_ship_segmentations_v2.csv')\\nmasks.head()\\ntrain = masks\\ntrain['exist_ship'] = train['EncodedPixels'].fillna(0)\\ntrain.loc[train['exist_ship']!=0, 'exist_ship']=1\\ndel train['EncodedPixels']\\ntrain_gp = train.groupby('ImageId').sum().reset_index()\\ntrain_gp.loc[train_gp['exist_ship']>0,'exist_ship']=1\\ntrain_gp= train_gp.sort_values(by='exist_ship')\\ntrain_gp = train_gp.drop(train_gp.index[0:100000])\\ntrain_sample = train_gp.sample(1000)\\n\""
      ]
     },
     "execution_count": 4,
     "metadata": {},
     "output_type": "execute_result"
    }
   ],
   "source": [
    "#Get train images with 50/50 split ships / no ships\n",
    "'''\n",
    "train_v2 = os.listdir('./train')\n",
    "masks = pd.read_csv('train_ship_segmentations_v2.csv')\n",
    "masks.head()\n",
    "train = masks\n",
    "train['exist_ship'] = train['EncodedPixels'].fillna(0)\n",
    "train.loc[train['exist_ship']!=0, 'exist_ship']=1\n",
    "del train['EncodedPixels']\n",
    "train_gp = train.groupby('ImageId').sum().reset_index()\n",
    "train_gp.loc[train_gp['exist_ship']>0,'exist_ship']=1\n",
    "train_gp= train_gp.sort_values(by='exist_ship')\n",
    "train_gp = train_gp.drop(train_gp.index[0:100000])\n",
    "train_sample = train_gp.sample(1000)\n",
    "'''"
   ]
  },
  {
   "cell_type": "code",
   "execution_count": 6,
   "metadata": {},
   "outputs": [],
   "source": [
    "#Helper functions\n",
    "class Util(object):\n",
    "    \n",
    "    @staticmethod\n",
    "    def read_images(root, files):\n",
    "        \"\"\"\n",
    "        Read in training images\n",
    "\n",
    "        Args:\n",
    "            relative path\n",
    "\n",
    "        Returns\n",
    "            train_X: dictionary of image_name -> image\n",
    "        \"\"\"\n",
    "        c = 0\n",
    "        train_X = {}\n",
    "        for i in files:\n",
    "            sub_item_name = files[i]['ImageId']\n",
    "            img_root = root + \"/\"\n",
    "            fileName = img_root + sub_item_name\n",
    "            image = im.imread(fileName)\n",
    "            train_X[sub_item_name] = image\n",
    "            c += 1\n",
    "            if c == samples:\n",
    "                break\n",
    "        return train_X\n",
    "    \n",
    "    def show_image(image):\n",
    "        resh = np.reshape(image,(image.shape[0],image.shape[1]))\n",
    "        tout = (np.array(resh) > 0.4).astype(np.uint8)\n",
    "        imshow(Image.fromarray(tout))\n",
    "    \n",
    "    \n",
    "    def normalize_images(raw_images, height, width, channels):\n",
    "        \"\"\"\n",
    "        Resize images to the given dimension\n",
    "\n",
    "        Args:\n",
    "            raw_images: dictiomary of image_name ->image\n",
    "            height: height of the resized images\n",
    "            width: width of the resized images\n",
    "            channels: number of channels in the resized image\n",
    "\n",
    "        Returns\n",
    "            List of resized images\n",
    "        \"\"\"\n",
    "        resized = []\n",
    "        keys = np.sort(list(raw_images.keys()))\n",
    "        for key in keys:\n",
    "            resized.append(resize(raw_images[key], (height, width, channels), mode='constant'))\n",
    "        return np.array(resized)\n",
    "    \n",
    "    \n",
    "    def convert_to_binary_image(image):\n",
    "        mean = (np.max(image) + np.min(image)) / 2.0\n",
    "        return image > mean\n",
    "    \n",
    "    def show_binary_image(image):\n",
    "        \"\"\"\n",
    "        Display image\n",
    "        \"\"\"\n",
    "        assert image.shape[2] == 1, \"image should have shape(,,1)\"\n",
    "        test_mask = image.astype(np.uint8)\n",
    "        imshow(test_mask.squeeze(), cmap=\"gray_r\")\n",
    "    \n",
    "    def decode_run_length(array, encoding):\n",
    "        \"\"\"\n",
    "        Decode run length encoding to the given array\n",
    "\n",
    "        Args:\n",
    "            encoding - strinng run length encoding pairs\n",
    "            array - array to encode to\n",
    "\n",
    "        \"\"\"\n",
    "        encoding_list = encoding.split(\" \")\n",
    "        assert len(encoding_list) % 2 ==0, \"Error in encoding\"\n",
    "        for i in range(0,len(encoding_list),2):\n",
    "            start_index = int(encoding_list[i])-1\n",
    "            length = int(encoding_list[i+1]) \n",
    "            array[start_index:start_index+length] = [1] * length\n",
    "\n",
    "\n",
    "    def map_run_length_encoding_to_images(run_length_encodings,data_X):\n",
    "        \"\"\"\n",
    "        Maps dictionary of run length encodings to images\n",
    "        \n",
    "        Args:\n",
    "            run_length_encodings: List of run_length_encodings\n",
    "                 ImageId - correspongind input image in  data_X\n",
    "                 EncodedPixels - string of pixel encoding pairs\n",
    "            data_X: originial images from which run length encoding was generated\n",
    "        Returns\n",
    "            Dictionary of decoded run length encodings \n",
    "        \"\"\"\n",
    "        train_Y_orig = {}\n",
    "        for index,row in run_length_encodings.iterrows(): \n",
    "            imageName = row['ImageId']\n",
    "            encodedPixels = row['EncodedPixels']\n",
    "            if(imageName not in data_X):\n",
    "                continue\n",
    "            if(imageName not in train_Y_orig):\n",
    "                w, h, channels = data_X[imageName].shape\n",
    "                length = w * h\n",
    "                mask = [0] * length\n",
    "                train_Y_orig[imageName] = mask\n",
    "\n",
    "            Util.decode_run_length(train_Y_orig[imageName],encodedPixels)\n",
    "\n",
    "        for key in train_Y_orig.keys():\n",
    "            w, h, c = data_X[key].shape\n",
    "            train_Y_orig[key] = np.reshape(train_Y_orig[key],(w,h,1),order='F')\n",
    "        return train_Y_orig\n",
    "\n",
    "class Config(object):\n",
    "    # Model input image format\n",
    "    channels = 3\n",
    "    width = 768\n",
    "    height = 768\n",
    "    #batch format\n",
    "    batch_size = 50\n",
    "    \n",
    "    def __init__(self, batch_size):\n",
    "        self.batch_size = batch_size"
   ]
  },
  {
   "cell_type": "markdown",
   "metadata": {
    "_cell_guid": "0782dbc2-524a-4cd4-a7c2-4455b4bcf3df",
    "_uuid": "7c0bdc12f29a96d52606c472f1ca0f7f51fe46d1"
   },
   "source": [
    "##### Config Parameters"
   ]
  },
  {
   "cell_type": "code",
   "execution_count": 7,
   "metadata": {
    "_cell_guid": "e1b72987-1808-4ae4-a372-4a04dae4f6ff",
    "_uuid": "dfafd6db59a371baf984ea113bb3d264043e20d6"
   },
   "outputs": [],
   "source": [
    "config = Config(batch_size=16)"
   ]
  },
  {
   "cell_type": "markdown",
   "metadata": {
    "_cell_guid": "57aca2b0-f353-4468-ac9d-047b170fb414",
    "_uuid": "b9b14a615b1956aeaacd982ee12a37b0809f9951"
   },
   "source": [
    "##### Import and reshape input data"
   ]
  },
  {
   "cell_type": "code",
   "execution_count": 8,
   "metadata": {
    "_cell_guid": "e2b9273a-03b1-4770-bb2f-b4b56953db7a",
    "_uuid": "561066ef65df39f8bbe0f79d91cef088384e9c59"
   },
   "outputs": [],
   "source": [
    "train_X_orig = Util.read_images(\"./train\", train_img_files)"
   ]
  },
  {
   "cell_type": "code",
   "execution_count": 9,
   "metadata": {
    "_cell_guid": "d7b95bf3-03c5-4103-9135-95a0aa0d693e",
    "_uuid": "cc60361a2d67d35b58bfc8aba7f8f72a50eaee3d"
   },
   "outputs": [
    {
     "name": "stderr",
     "output_type": "stream",
     "text": [
      "/home/jun_inthebay/anaconda3/lib/python3.6/site-packages/skimage/transform/_warps.py:110: UserWarning: Anti-aliasing will be enabled by default in skimage 0.15 to avoid aliasing artifacts when down-sampling images.\n",
      "  warn(\"Anti-aliasing will be enabled by default in skimage 0.15 to \"\n"
     ]
    }
   ],
   "source": [
    "train_X = np.array(Util.normalize_images(train_X_orig, config.width, config.height, config.channels))"
   ]
  },
  {
   "cell_type": "code",
   "execution_count": 10,
   "metadata": {},
   "outputs": [
    {
     "data": {
      "text/plain": [
       "(10, 768, 768, 3)"
      ]
     },
     "execution_count": 10,
     "metadata": {},
     "output_type": "execute_result"
    }
   ],
   "source": [
    "train_X.shape"
   ]
  },
  {
   "cell_type": "markdown",
   "metadata": {
    "_cell_guid": "0ab3a960-8a27-40d2-a922-bcc878072a02",
    "_uuid": "979d0c15a946a4ac1abccc3e146cebfd5a845faa"
   },
   "source": [
    "##### Import predict set"
   ]
  },
  {
   "cell_type": "code",
   "execution_count": 11,
   "metadata": {
    "_cell_guid": "3513cd7b-f012-4709-88e2-64d516ab2426",
    "_uuid": "bd6e6443ebab8bc9fcbca316a36a3861499538cc"
   },
   "outputs": [
    {
     "name": "stderr",
     "output_type": "stream",
     "text": [
      "/home/jun_inthebay/anaconda3/lib/python3.6/site-packages/skimage/transform/_warps.py:110: UserWarning: Anti-aliasing will be enabled by default in skimage 0.15 to avoid aliasing artifacts when down-sampling images.\n",
      "  warn(\"Anti-aliasing will be enabled by default in skimage 0.15 to \"\n"
     ]
    }
   ],
   "source": [
    "pred_X_orig = Util.read_images(\"./test\", test_img_files)\n",
    "pred_X = np.array(Util.normalize_images(pred_X_orig, config.width, config.height, config.channels))"
   ]
  },
  {
   "cell_type": "code",
   "execution_count": 12,
   "metadata": {},
   "outputs": [],
   "source": [
    "segs = pd.read_csv('train_ship_segmentations_v2.csv')"
   ]
  },
  {
   "cell_type": "code",
   "execution_count": 13,
   "metadata": {},
   "outputs": [
    {
     "data": {
      "text/html": [
       "<div>\n",
       "<style scoped>\n",
       "    .dataframe tbody tr th:only-of-type {\n",
       "        vertical-align: middle;\n",
       "    }\n",
       "\n",
       "    .dataframe tbody tr th {\n",
       "        vertical-align: top;\n",
       "    }\n",
       "\n",
       "    .dataframe thead th {\n",
       "        text-align: right;\n",
       "    }\n",
       "</style>\n",
       "<table border=\"1\" class=\"dataframe\">\n",
       "  <thead>\n",
       "    <tr style=\"text-align: right;\">\n",
       "      <th></th>\n",
       "      <th>ImageId</th>\n",
       "      <th>EncodedPixels</th>\n",
       "    </tr>\n",
       "  </thead>\n",
       "  <tbody>\n",
       "    <tr>\n",
       "      <th>0</th>\n",
       "      <td>00003e153.jpg</td>\n",
       "      <td>NaN</td>\n",
       "    </tr>\n",
       "    <tr>\n",
       "      <th>1</th>\n",
       "      <td>0001124c7.jpg</td>\n",
       "      <td>NaN</td>\n",
       "    </tr>\n",
       "    <tr>\n",
       "      <th>2</th>\n",
       "      <td>000155de5.jpg</td>\n",
       "      <td>264661 17 265429 33 266197 33 266965 33 267733...</td>\n",
       "    </tr>\n",
       "    <tr>\n",
       "      <th>3</th>\n",
       "      <td>000194a2d.jpg</td>\n",
       "      <td>360486 1 361252 4 362019 5 362785 8 363552 10 ...</td>\n",
       "    </tr>\n",
       "    <tr>\n",
       "      <th>4</th>\n",
       "      <td>000194a2d.jpg</td>\n",
       "      <td>51834 9 52602 9 53370 9 54138 9 54906 9 55674 ...</td>\n",
       "    </tr>\n",
       "    <tr>\n",
       "      <th>5</th>\n",
       "      <td>000194a2d.jpg</td>\n",
       "      <td>198320 10 199088 10 199856 10 200624 10 201392...</td>\n",
       "    </tr>\n",
       "    <tr>\n",
       "      <th>6</th>\n",
       "      <td>000194a2d.jpg</td>\n",
       "      <td>55683 1 56451 1 57219 1 57987 1 58755 1 59523 ...</td>\n",
       "    </tr>\n",
       "    <tr>\n",
       "      <th>7</th>\n",
       "      <td>000194a2d.jpg</td>\n",
       "      <td>254389 9 255157 17 255925 17 256693 17 257461 ...</td>\n",
       "    </tr>\n",
       "    <tr>\n",
       "      <th>8</th>\n",
       "      <td>0001b1832.jpg</td>\n",
       "      <td>NaN</td>\n",
       "    </tr>\n",
       "    <tr>\n",
       "      <th>9</th>\n",
       "      <td>00021ddc3.jpg</td>\n",
       "      <td>108287 1 109054 3 109821 4 110588 5 111356 5 1...</td>\n",
       "    </tr>\n",
       "    <tr>\n",
       "      <th>10</th>\n",
       "      <td>00021ddc3.jpg</td>\n",
       "      <td>101361 1 102128 3 102896 4 103663 6 104430 9 1...</td>\n",
       "    </tr>\n",
       "    <tr>\n",
       "      <th>11</th>\n",
       "      <td>00021ddc3.jpg</td>\n",
       "      <td>74441 3 75207 5 75975 5 76743 5 77511 5 78280 ...</td>\n",
       "    </tr>\n",
       "    <tr>\n",
       "      <th>12</th>\n",
       "      <td>00021ddc3.jpg</td>\n",
       "      <td>74444 4 75212 4 75980 4 76748 4 77517 3 78285 ...</td>\n",
       "    </tr>\n",
       "    <tr>\n",
       "      <th>13</th>\n",
       "      <td>00021ddc3.jpg</td>\n",
       "      <td>150423 2 151190 3 151958 3 152726 4 153495 3 1...</td>\n",
       "    </tr>\n",
       "    <tr>\n",
       "      <th>14</th>\n",
       "      <td>00021ddc3.jpg</td>\n",
       "      <td>139644 2 140408 6 141174 9 141942 9 142711 6 1...</td>\n",
       "    </tr>\n",
       "    <tr>\n",
       "      <th>15</th>\n",
       "      <td>00021ddc3.jpg</td>\n",
       "      <td>75972 3 76738 5 77506 5 78274 5 79042 6 79811 ...</td>\n",
       "    </tr>\n",
       "    <tr>\n",
       "      <th>16</th>\n",
       "      <td>00021ddc3.jpg</td>\n",
       "      <td>86727 2 87493 4 88261 4 89030 3 89798 4 90566 ...</td>\n",
       "    </tr>\n",
       "    <tr>\n",
       "      <th>17</th>\n",
       "      <td>00021ddc3.jpg</td>\n",
       "      <td>95225 2 95992 5 96760 7 97527 9 98294 9 99062 ...</td>\n",
       "    </tr>\n",
       "    <tr>\n",
       "      <th>18</th>\n",
       "      <td>0002756f7.jpg</td>\n",
       "      <td>255784 2 256552 4 257319 7 258087 9 258854 12 ...</td>\n",
       "    </tr>\n",
       "    <tr>\n",
       "      <th>19</th>\n",
       "      <td>0002756f7.jpg</td>\n",
       "      <td>248878 1 249645 4 250413 6 251180 9 251948 10 ...</td>\n",
       "    </tr>\n",
       "    <tr>\n",
       "      <th>20</th>\n",
       "      <td>0002d0f32.jpg</td>\n",
       "      <td>NaN</td>\n",
       "    </tr>\n",
       "    <tr>\n",
       "      <th>21</th>\n",
       "      <td>000303d4d.jpg</td>\n",
       "      <td>NaN</td>\n",
       "    </tr>\n",
       "    <tr>\n",
       "      <th>22</th>\n",
       "      <td>00031f145.jpg</td>\n",
       "      <td>340363 1 341129 4 341896 6 342663 7 343429 10 ...</td>\n",
       "    </tr>\n",
       "    <tr>\n",
       "      <th>23</th>\n",
       "      <td>00052ed46.jpg</td>\n",
       "      <td>NaN</td>\n",
       "    </tr>\n",
       "    <tr>\n",
       "      <th>24</th>\n",
       "      <td>000532683.jpg</td>\n",
       "      <td>458957 14 459725 14 460493 14 461261 14 462029...</td>\n",
       "    </tr>\n",
       "    <tr>\n",
       "      <th>25</th>\n",
       "      <td>000532683.jpg</td>\n",
       "      <td>567543 2 568309 4 569077 5 569846 4 570614 5 5...</td>\n",
       "    </tr>\n",
       "    <tr>\n",
       "      <th>26</th>\n",
       "      <td>00053c6ba.jpg</td>\n",
       "      <td>565382 3 566144 9 566909 12 567677 13 568445 1...</td>\n",
       "    </tr>\n",
       "    <tr>\n",
       "      <th>27</th>\n",
       "      <td>00057a50d.jpg</td>\n",
       "      <td>NaN</td>\n",
       "    </tr>\n",
       "    <tr>\n",
       "      <th>28</th>\n",
       "      <td>000592296.jpg</td>\n",
       "      <td>NaN</td>\n",
       "    </tr>\n",
       "    <tr>\n",
       "      <th>29</th>\n",
       "      <td>0005d01c8.jpg</td>\n",
       "      <td>56010 1 56777 3 57544 6 58312 7 59079 9 59846 ...</td>\n",
       "    </tr>\n",
       "    <tr>\n",
       "      <th>...</th>\n",
       "      <td>...</td>\n",
       "      <td>...</td>\n",
       "    </tr>\n",
       "    <tr>\n",
       "      <th>231693</th>\n",
       "      <td>fff8ced35.jpg</td>\n",
       "      <td>NaN</td>\n",
       "    </tr>\n",
       "    <tr>\n",
       "      <th>231694</th>\n",
       "      <td>fff909871.jpg</td>\n",
       "      <td>441057 2 441825 4 442592 7 443360 9 444128 11 ...</td>\n",
       "    </tr>\n",
       "    <tr>\n",
       "      <th>231695</th>\n",
       "      <td>fff9395dc.jpg</td>\n",
       "      <td>NaN</td>\n",
       "    </tr>\n",
       "    <tr>\n",
       "      <th>231696</th>\n",
       "      <td>fff998ae9.jpg</td>\n",
       "      <td>NaN</td>\n",
       "    </tr>\n",
       "    <tr>\n",
       "      <th>231697</th>\n",
       "      <td>fff9aa012.jpg</td>\n",
       "      <td>NaN</td>\n",
       "    </tr>\n",
       "    <tr>\n",
       "      <th>231698</th>\n",
       "      <td>fffa15273.jpg</td>\n",
       "      <td>NaN</td>\n",
       "    </tr>\n",
       "    <tr>\n",
       "      <th>231699</th>\n",
       "      <td>fffa44607.jpg</td>\n",
       "      <td>NaN</td>\n",
       "    </tr>\n",
       "    <tr>\n",
       "      <th>231700</th>\n",
       "      <td>fffa5960e.jpg</td>\n",
       "      <td>NaN</td>\n",
       "    </tr>\n",
       "    <tr>\n",
       "      <th>231701</th>\n",
       "      <td>fffa80c97.jpg</td>\n",
       "      <td>NaN</td>\n",
       "    </tr>\n",
       "    <tr>\n",
       "      <th>231702</th>\n",
       "      <td>fffa926c8.jpg</td>\n",
       "      <td>NaN</td>\n",
       "    </tr>\n",
       "    <tr>\n",
       "      <th>231703</th>\n",
       "      <td>fffb2924f.jpg</td>\n",
       "      <td>NaN</td>\n",
       "    </tr>\n",
       "    <tr>\n",
       "      <th>231704</th>\n",
       "      <td>fffb36a47.jpg</td>\n",
       "      <td>NaN</td>\n",
       "    </tr>\n",
       "    <tr>\n",
       "      <th>231705</th>\n",
       "      <td>fffbb804d.jpg</td>\n",
       "      <td>NaN</td>\n",
       "    </tr>\n",
       "    <tr>\n",
       "      <th>231706</th>\n",
       "      <td>fffc0ade1.jpg</td>\n",
       "      <td>NaN</td>\n",
       "    </tr>\n",
       "    <tr>\n",
       "      <th>231707</th>\n",
       "      <td>fffc12f8c.jpg</td>\n",
       "      <td>NaN</td>\n",
       "    </tr>\n",
       "    <tr>\n",
       "      <th>231708</th>\n",
       "      <td>fffc6b811.jpg</td>\n",
       "      <td>NaN</td>\n",
       "    </tr>\n",
       "    <tr>\n",
       "      <th>231709</th>\n",
       "      <td>fffcb6464.jpg</td>\n",
       "      <td>222782 4 223550 10 224318 14 225086 14 225854 ...</td>\n",
       "    </tr>\n",
       "    <tr>\n",
       "      <th>231710</th>\n",
       "      <td>fffcd0cf7.jpg</td>\n",
       "      <td>NaN</td>\n",
       "    </tr>\n",
       "    <tr>\n",
       "      <th>231711</th>\n",
       "      <td>fffcda6d6.jpg</td>\n",
       "      <td>NaN</td>\n",
       "    </tr>\n",
       "    <tr>\n",
       "      <th>231712</th>\n",
       "      <td>fffd924fb.jpg</td>\n",
       "      <td>110011 5 110779 5 111547 5 112315 5 113083 5 1...</td>\n",
       "    </tr>\n",
       "    <tr>\n",
       "      <th>231713</th>\n",
       "      <td>fffd924fb.jpg</td>\n",
       "      <td>198440 8 199208 8 199976 8 200744 8 201512 8 2...</td>\n",
       "    </tr>\n",
       "    <tr>\n",
       "      <th>231714</th>\n",
       "      <td>fffdd2377.jpg</td>\n",
       "      <td>333603 7 334359 19 335120 26 335888 26 336656 ...</td>\n",
       "    </tr>\n",
       "    <tr>\n",
       "      <th>231715</th>\n",
       "      <td>fffe4c385.jpg</td>\n",
       "      <td>NaN</td>\n",
       "    </tr>\n",
       "    <tr>\n",
       "      <th>231716</th>\n",
       "      <td>fffe4fa23.jpg</td>\n",
       "      <td>NaN</td>\n",
       "    </tr>\n",
       "    <tr>\n",
       "      <th>231717</th>\n",
       "      <td>fffe646cf.jpg</td>\n",
       "      <td>NaN</td>\n",
       "    </tr>\n",
       "    <tr>\n",
       "      <th>231718</th>\n",
       "      <td>fffedbb6b.jpg</td>\n",
       "      <td>NaN</td>\n",
       "    </tr>\n",
       "    <tr>\n",
       "      <th>231719</th>\n",
       "      <td>ffff2aa57.jpg</td>\n",
       "      <td>NaN</td>\n",
       "    </tr>\n",
       "    <tr>\n",
       "      <th>231720</th>\n",
       "      <td>ffff6e525.jpg</td>\n",
       "      <td>NaN</td>\n",
       "    </tr>\n",
       "    <tr>\n",
       "      <th>231721</th>\n",
       "      <td>ffffc50b4.jpg</td>\n",
       "      <td>NaN</td>\n",
       "    </tr>\n",
       "    <tr>\n",
       "      <th>231722</th>\n",
       "      <td>ffffe97f3.jpg</td>\n",
       "      <td>NaN</td>\n",
       "    </tr>\n",
       "  </tbody>\n",
       "</table>\n",
       "<p>231723 rows × 2 columns</p>\n",
       "</div>"
      ],
      "text/plain": [
       "              ImageId                                      EncodedPixels\n",
       "0       00003e153.jpg                                                NaN\n",
       "1       0001124c7.jpg                                                NaN\n",
       "2       000155de5.jpg  264661 17 265429 33 266197 33 266965 33 267733...\n",
       "3       000194a2d.jpg  360486 1 361252 4 362019 5 362785 8 363552 10 ...\n",
       "4       000194a2d.jpg  51834 9 52602 9 53370 9 54138 9 54906 9 55674 ...\n",
       "5       000194a2d.jpg  198320 10 199088 10 199856 10 200624 10 201392...\n",
       "6       000194a2d.jpg  55683 1 56451 1 57219 1 57987 1 58755 1 59523 ...\n",
       "7       000194a2d.jpg  254389 9 255157 17 255925 17 256693 17 257461 ...\n",
       "8       0001b1832.jpg                                                NaN\n",
       "9       00021ddc3.jpg  108287 1 109054 3 109821 4 110588 5 111356 5 1...\n",
       "10      00021ddc3.jpg  101361 1 102128 3 102896 4 103663 6 104430 9 1...\n",
       "11      00021ddc3.jpg  74441 3 75207 5 75975 5 76743 5 77511 5 78280 ...\n",
       "12      00021ddc3.jpg  74444 4 75212 4 75980 4 76748 4 77517 3 78285 ...\n",
       "13      00021ddc3.jpg  150423 2 151190 3 151958 3 152726 4 153495 3 1...\n",
       "14      00021ddc3.jpg  139644 2 140408 6 141174 9 141942 9 142711 6 1...\n",
       "15      00021ddc3.jpg  75972 3 76738 5 77506 5 78274 5 79042 6 79811 ...\n",
       "16      00021ddc3.jpg  86727 2 87493 4 88261 4 89030 3 89798 4 90566 ...\n",
       "17      00021ddc3.jpg  95225 2 95992 5 96760 7 97527 9 98294 9 99062 ...\n",
       "18      0002756f7.jpg  255784 2 256552 4 257319 7 258087 9 258854 12 ...\n",
       "19      0002756f7.jpg  248878 1 249645 4 250413 6 251180 9 251948 10 ...\n",
       "20      0002d0f32.jpg                                                NaN\n",
       "21      000303d4d.jpg                                                NaN\n",
       "22      00031f145.jpg  340363 1 341129 4 341896 6 342663 7 343429 10 ...\n",
       "23      00052ed46.jpg                                                NaN\n",
       "24      000532683.jpg  458957 14 459725 14 460493 14 461261 14 462029...\n",
       "25      000532683.jpg  567543 2 568309 4 569077 5 569846 4 570614 5 5...\n",
       "26      00053c6ba.jpg  565382 3 566144 9 566909 12 567677 13 568445 1...\n",
       "27      00057a50d.jpg                                                NaN\n",
       "28      000592296.jpg                                                NaN\n",
       "29      0005d01c8.jpg  56010 1 56777 3 57544 6 58312 7 59079 9 59846 ...\n",
       "...               ...                                                ...\n",
       "231693  fff8ced35.jpg                                                NaN\n",
       "231694  fff909871.jpg  441057 2 441825 4 442592 7 443360 9 444128 11 ...\n",
       "231695  fff9395dc.jpg                                                NaN\n",
       "231696  fff998ae9.jpg                                                NaN\n",
       "231697  fff9aa012.jpg                                                NaN\n",
       "231698  fffa15273.jpg                                                NaN\n",
       "231699  fffa44607.jpg                                                NaN\n",
       "231700  fffa5960e.jpg                                                NaN\n",
       "231701  fffa80c97.jpg                                                NaN\n",
       "231702  fffa926c8.jpg                                                NaN\n",
       "231703  fffb2924f.jpg                                                NaN\n",
       "231704  fffb36a47.jpg                                                NaN\n",
       "231705  fffbb804d.jpg                                                NaN\n",
       "231706  fffc0ade1.jpg                                                NaN\n",
       "231707  fffc12f8c.jpg                                                NaN\n",
       "231708  fffc6b811.jpg                                                NaN\n",
       "231709  fffcb6464.jpg  222782 4 223550 10 224318 14 225086 14 225854 ...\n",
       "231710  fffcd0cf7.jpg                                                NaN\n",
       "231711  fffcda6d6.jpg                                                NaN\n",
       "231712  fffd924fb.jpg  110011 5 110779 5 111547 5 112315 5 113083 5 1...\n",
       "231713  fffd924fb.jpg  198440 8 199208 8 199976 8 200744 8 201512 8 2...\n",
       "231714  fffdd2377.jpg  333603 7 334359 19 335120 26 335888 26 336656 ...\n",
       "231715  fffe4c385.jpg                                                NaN\n",
       "231716  fffe4fa23.jpg                                                NaN\n",
       "231717  fffe646cf.jpg                                                NaN\n",
       "231718  fffedbb6b.jpg                                                NaN\n",
       "231719  ffff2aa57.jpg                                                NaN\n",
       "231720  ffff6e525.jpg                                                NaN\n",
       "231721  ffffc50b4.jpg                                                NaN\n",
       "231722  ffffe97f3.jpg                                                NaN\n",
       "\n",
       "[231723 rows x 2 columns]"
      ]
     },
     "execution_count": 13,
     "metadata": {},
     "output_type": "execute_result"
    }
   ],
   "source": [
    "segs"
   ]
  },
  {
   "cell_type": "markdown",
   "metadata": {
    "_cell_guid": "a21aef23-364d-4ab6-a691-39fb9a849c57",
    "_uuid": "6cbbc65753bb92594f79bfe0a1355e65b4aed0b7"
   },
   "source": [
    "##### Import and decoding run length "
   ]
  },
  {
   "cell_type": "code",
   "execution_count": 14,
   "metadata": {
    "_cell_guid": "e9beb575-25c9-4455-af67-dd1a93194fb8",
    "_uuid": "48ea68a768f3c1017d6351f0da8e77fb33f762a4"
   },
   "outputs": [],
   "source": [
    "train_Y_orig = Util.map_run_length_encoding_to_images(pd.read_csv('train_ship_segmentations_v2.csv'),train_X_orig)"
   ]
  },
  {
   "cell_type": "code",
   "execution_count": 15,
   "metadata": {
    "_cell_guid": "300039ea-88ec-4713-842c-8eee2fed387d",
    "_uuid": "7deb834bcd87f3b7d0599fcb8e85eb994e012d7c"
   },
   "outputs": [
    {
     "name": "stderr",
     "output_type": "stream",
     "text": [
      "/home/jun_inthebay/anaconda3/lib/python3.6/site-packages/skimage/transform/_warps.py:110: UserWarning: Anti-aliasing will be enabled by default in skimage 0.15 to avoid aliasing artifacts when down-sampling images.\n",
      "  warn(\"Anti-aliasing will be enabled by default in skimage 0.15 to \"\n",
      "/home/jun_inthebay/anaconda3/lib/python3.6/site-packages/skimage/util/dtype.py:141: UserWarning: Possible precision loss when converting from int64 to float64\n",
      "  .format(dtypeobj_in, dtypeobj_out))\n"
     ]
    }
   ],
   "source": [
    "train_Y = Util.normalize_images(train_Y_orig, config.width, config.height, 1)"
   ]
  },
  {
   "cell_type": "code",
   "execution_count": 16,
   "metadata": {
    "_cell_guid": "231511ce-5c35-4deb-af57-ee4982ffc75d",
    "_uuid": "70e2ce75f0e5c5522e8a3f1e62c87d4016ad32f5"
   },
   "outputs": [],
   "source": [
    "train_Y = [Util.convert_to_binary_image(image) for image in train_Y]"
   ]
  },
  {
   "cell_type": "code",
   "execution_count": 17,
   "metadata": {
    "_cell_guid": "9e85d9ab-0623-4016-a7ea-e9f93648b3ce",
    "_uuid": "67826e98c93676fc26d0442178c203137d732928"
   },
   "outputs": [
    {
     "name": "stdout",
     "output_type": "stream",
     "text": [
      "(768, 768, 3)\n"
     ]
    },
    {
     "data": {
      "text/plain": [
       "<matplotlib.image.AxesImage at 0x7fd65cd06908>"
      ]
     },
     "execution_count": 17,
     "metadata": {},
     "output_type": "execute_result"
    },
    {
     "data": {
      "image/png": "[encoded data removed]",
      "text/plain": [
       "<Figure size 432x288 with 1 Axes>"
      ]
     },
     "metadata": {
      "needs_background": "light"
     },
     "output_type": "display_data"
    }
   ],
   "source": [
    "t = train_X[0]\n",
    "print(t.shape)\n",
    "imshow(t.squeeze())"
   ]
  },
  {
   "cell_type": "code",
   "execution_count": 18,
   "metadata": {
    "_cell_guid": "0f88e574-7d51-4d29-91bd-5f8bd52f946c",
    "_uuid": "67a2c7ac68730c224907a3b0b3b55a8b106abf29"
   },
   "outputs": [
    {
     "name": "stdout",
     "output_type": "stream",
     "text": [
      "(768, 768, 1)\n"
     ]
    },
    {
     "data": {
      "text/plain": [
       "<matplotlib.image.AxesImage at 0x7fd6598c1a90>"
      ]
     },
     "execution_count": 18,
     "metadata": {},
     "output_type": "execute_result"
    },
    {
     "data": {
      "image/png": "[encoded data removed]",
      "text/plain": [
       "<Figure size 432x288 with 1 Axes>"
      ]
     },
     "metadata": {
      "needs_background": "light"
     },
     "output_type": "display_data"
    }
   ],
   "source": [
    "t = train_Y[0]\n",
    "print(t.shape)\n",
    "imshow(t.squeeze())"
   ]
  },
  {
   "cell_type": "code",
   "execution_count": 38,
   "metadata": {},
   "outputs": [
    {
     "data": {
      "text/plain": [
       "(768, 768, 1)"
      ]
     },
     "execution_count": 38,
     "metadata": {},
     "output_type": "execute_result"
    }
   ],
   "source": []
  },
  {
   "cell_type": "code",
   "execution_count": 19,
   "metadata": {
    "_cell_guid": "745218b2-b812-45d9-aa92-0b06c1bf7c63",
    "_uuid": "80d32a6e525099a06db54a0b8ca3fa6dad14e51d"
   },
   "outputs": [],
   "source": [
    "tf.reset_default_graph()"
   ]
  },
  {
   "cell_type": "markdown",
   "metadata": {
    "_cell_guid": "a12c0f47-e2db-45e5-8423-7d4b9425aef1",
    "_uuid": "2d3835203aa1928b63cdf465aac8957e512a4398"
   },
   "source": [
    "##### Create input placeholder"
   ]
  },
  {
   "cell_type": "code",
   "execution_count": 20,
   "metadata": {
    "_cell_guid": "f7be9668-ff89-4a69-839d-1102b88e9e1f",
    "_uuid": "d139d41eb6e5c9d767d440c8a949f2b0d6d9c83c"
   },
   "outputs": [],
   "source": [
    "#Only the channel size is known\n",
    "X = tf.placeholder(tf.float32, shape = (None,None,None,config.channels))"
   ]
  },
  {
   "cell_type": "code",
   "execution_count": 21,
   "metadata": {
    "_cell_guid": "f2198e68-6a6b-4b89-bd1b-3318340eab3c",
    "_uuid": "0f356e6edcbbda70c73eedefc10e4a9096596962"
   },
   "outputs": [],
   "source": [
    "Y = tf.placeholder(tf.float32, shape = (None,None,None,1))"
   ]
  },
  {
   "cell_type": "markdown",
   "metadata": {
    "_cell_guid": "fe7dcff3-c341-43e4-bf90-d82184e1990c",
    "_uuid": "d40dacec83a28354f2bbfd5232f9d69105a35e7f"
   },
   "source": [
    "##### Create model"
   ]
  },
  {
   "cell_type": "code",
   "execution_count": 22,
   "metadata": {
    "_cell_guid": "aa68ae65-9603-458b-b75a-69901c3cdda8",
    "_uuid": "5efda5c0c2bdad4ae4426a5865852121d5e84c04"
   },
   "outputs": [],
   "source": [
    "def forward_propagation(X):\n",
    "\n",
    "    \n",
    "    CONV_1_1 = tf.get_variable(\"CONV_1_1\",[3,3,config.channels,16], initializer = tf.contrib.layers.xavier_initializer());\n",
    "    CONV_1_2 = tf.get_variable(\"CONV_1_2\",[3,3,16,16], initializer = tf.contrib.layers.xavier_initializer());\n",
    "     \n",
    "    CONV_2_1 = tf.get_variable(\"CONV_2_1\",[3,3,16,32], initializer = tf.contrib.layers.xavier_initializer());\n",
    "    CONV_2_2 = tf.get_variable(\"CONV_2_2\",[3,3,32,32], initializer = tf.contrib.layers.xavier_initializer());\n",
    "    \n",
    "    CONV_3_1 = tf.get_variable(\"CONV_3_1\",[3,3,32,64], initializer = tf.contrib.layers.xavier_initializer());\n",
    "    CONV_3_2 = tf.get_variable(\"CONV_3_2\",[3,3,64,64], initializer = tf.contrib.layers.xavier_initializer());\n",
    "    \n",
    "    CONV_4_1 = tf.get_variable(\"CONV_4_1\",[3,3,64,128], initializer = tf.contrib.layers.xavier_initializer());\n",
    "    CONV_4_2 = tf.get_variable(\"CONV_4_2\",[3,3,128,128], initializer = tf.contrib.layers.xavier_initializer());\n",
    "    \n",
    "    CONV_5_1 = tf.get_variable(\"CONV_5_1\",[3,3,128,256], initializer = tf.contrib.layers.xavier_initializer());\n",
    "    CONV_5_2 = tf.get_variable(\"CONV_5_2\",[3,3,256,256], initializer = tf.contrib.layers.xavier_initializer());\n",
    "    \n",
    "    CONV_6_1 = tf.get_variable(\"CONV_6_1\",[2,2,128,256], initializer = tf.contrib.layers.xavier_initializer());\n",
    "    CONV_6_2 = tf.get_variable(\"CONV_6_2\",[3,3,256,128], initializer = tf.contrib.layers.xavier_initializer());\n",
    "    CONV_6_3 = tf.get_variable(\"CONV_6_3\",[3,3,128,128], initializer = tf.contrib.layers.xavier_initializer());\n",
    "    \n",
    "    CONV_7_1 = tf.get_variable(\"CONV_7_1\",[2,2,64,128], initializer = tf.contrib.layers.xavier_initializer());\n",
    "    CONV_7_2 = tf.get_variable(\"CONV_7_2\",[3,3,128,64], initializer = tf.contrib.layers.xavier_initializer());\n",
    "    CONV_7_3 = tf.get_variable(\"CONV_7_3\",[3,3,64,64], initializer = tf.contrib.layers.xavier_initializer());\n",
    "    \n",
    "    CONV_8_1 = tf.get_variable(\"CONV_8_1\",[2,2,32,64], initializer = tf.contrib.layers.xavier_initializer());\n",
    "    CONV_8_2 = tf.get_variable(\"CONV_8_2\",[3,3,64,32], initializer = tf.contrib.layers.xavier_initializer());\n",
    "    CONV_8_3 = tf.get_variable(\"CONV_8_3\",[3,3,32,32], initializer = tf.contrib.layers.xavier_initializer());\n",
    "    \n",
    "    CONV_9_1 = tf.get_variable(\"CONV_9_1\",[2,2,16,32], initializer = tf.contrib.layers.xavier_initializer());\n",
    "    CONV_9_2 = tf.get_variable(\"CONV_9_2\",[3,3,32,16], initializer = tf.contrib.layers.xavier_initializer());\n",
    "    CONV_9_3 = tf.get_variable(\"CONV_9_3\",[3,3,16,16], initializer = tf.contrib.layers.xavier_initializer());\n",
    "    \n",
    "    CONV_OUT = tf.get_variable(\"CONV_OUT\",[1,1,16,1], initializer = tf.contrib.layers.xavier_initializer());\n",
    "      \n",
    "    Z1 = tf.nn.relu(tf.nn.conv2d(X,CONV_1_1, strides=[1,1,1,1], padding='SAME'))\n",
    "    D1 = tf.nn.dropout(Z1,keep_prob = 0.9)\n",
    "    V1 = tf.nn.relu(tf.nn.conv2d(D1,CONV_1_2, strides=[1,1,1,1], padding='VALID'))\n",
    "    A1 = tf.nn.max_pool(V1, ksize = [1, 127, 127, 1], strides = [1,1,1,1], padding = 'VALID')\n",
    "    \n",
    "    tf.summary.histogram('A1', A1)\n",
    "    \n",
    "    Z2 = tf.nn.relu(tf.nn.conv2d(A1, CONV_2_1, strides=[1,1,1,1], padding='SAME'))\n",
    "    D2 = tf.nn.dropout(Z2, keep_prob = 0.9)\n",
    "    V2 = tf.nn.relu(tf.nn.conv2d(D2, CONV_2_2, strides=[1,1,1,1], padding='VALID'))\n",
    "    A2 = tf.nn.max_pool(V2, ksize = [1, 63, 63, 1], strides = [1,1,1,1], padding = 'VALID')\n",
    "    \n",
    "    tf.summary.histogram('A2', A2)\n",
    "    \n",
    "    Z3 = tf.nn.relu(tf.nn.conv2d(A2, CONV_3_1, strides=[1,1,1,1], padding='SAME'))\n",
    "    D3 = tf.nn.dropout(Z3, keep_prob = 0.8)\n",
    "    V3 = tf.nn.relu(tf.nn.conv2d(D3, CONV_3_2, strides=[1,1,1,1], padding='VALID'))\n",
    "    A3 = tf.nn.max_pool(V3, ksize = [1, 31, 31, 1], strides = [1,1,1,1], padding = 'VALID')\n",
    "    \n",
    "    tf.summary.histogram('A3', A3)\n",
    "    \n",
    "    Z4 = tf.nn.relu(tf.nn.conv2d(A3, CONV_4_1, strides=[1,1,1,1], padding='SAME'))\n",
    "    D4 = tf.nn.dropout(Z4, keep_prob = 0.8)\n",
    "    V4 = tf.nn.relu(tf.nn.conv2d(D4, CONV_4_2, strides=[1,1,1,1], padding='VALID'))\n",
    "    A4 = tf.nn.max_pool(V4, ksize = [1, 15, 15, 1], strides = [1,1,1,1], padding = 'VALID')\n",
    "\n",
    "    tf.summary.histogram('A4', A4)\n",
    "    #Z5 = tf.nn.relu(tf.nn.conv2d(A4, CONV_5_1, strides=[1,1,1,1], padding='VALID'))\n",
    "    Z5 = tf.nn.relu(tf.nn.conv2d(A4, CONV_5_1, strides=[1,1,1,1], padding='SAME'))\n",
    "    D5 = tf.nn.dropout(Z5, keep_prob = 0.8)\n",
    "    Z5 = tf.nn.relu(tf.nn.conv2d(D5, CONV_5_2, strides=[1,1,1,1], padding='SAME'))\n",
    "   \n",
    "    tf.summary.histogram('m_Z5', Z5)\n",
    "\n",
    "    batch_size = tf.shape(Z5)[0]    \n",
    "    # top of piramid, or bottom of valley\n",
    "    Z6 = tf.nn.conv2d_transpose(Z5, CONV_6_1, [batch_size,32,32,128], strides = [1,2,2,1], padding='VALID')\n",
    "    Z6 = tf.concat([Z6,Z4],3)\n",
    "    Z6 = tf.nn.relu(tf.nn.conv2d(Z6, CONV_6_2, strides=[1,1,1,1], padding='SAME'))\n",
    "    D6 = tf.nn.dropout(Z6, keep_prob = 0.8)\n",
    "    Z6 = tf.nn.relu(tf.nn.conv2d(D6, CONV_6_3, strides=[1,1,1,1], padding='SAME'))\n",
    "    \n",
    "    tf.summary.histogram('deconv-Z6', Z6)\n",
    "    \n",
    "    Z7 = tf.nn.conv2d_transpose(Z6, CONV_7_1, [batch_size,64,64,64], strides = [1,2,2,1], padding='VALID')\n",
    "    Z7 = tf.concat([Z7,Z3],3)\n",
    "    Z7 = tf.nn.relu(tf.nn.conv2d(Z7, CONV_7_2, strides=[1,1,1,1], padding='SAME'))\n",
    "    D7 = tf.nn.dropout(Z7, keep_prob = 0.8)\n",
    "    Z7 = tf.nn.relu(tf.nn.conv2d(D7, CONV_7_3, strides=[1,1,1,1], padding='SAME'))\n",
    "    \n",
    "    tf.summary.histogram('deconv_Z7', Z7)\n",
    "    \n",
    "    Z8 = tf.nn.conv2d_transpose(Z7, CONV_8_1, [batch_size,128,128,32], strides = [1,2,2,1], padding='VALID')\n",
    "    Z8 = tf.concat([Z8,Z2],3)\n",
    "    Z8 = tf.nn.relu(tf.nn.conv2d(Z8, CONV_8_2, strides=[1,1,1,1], padding='SAME'))\n",
    "    D8 = tf.nn.dropout(Z8, keep_prob = 0.9)\n",
    "    Z8 = tf.nn.relu(tf.nn.conv2d(D8, CONV_8_3, strides=[1,1,1,1], padding='SAME'))\n",
    "    \n",
    "    tf.summary.histogram('deconv_Z8', Z8)\n",
    "    \n",
    "    Z9 = tf.nn.conv2d_transpose(Z8, CONV_9_1, [batch_size,256,256,16], strides = [1,2,2,1], padding='VALID')\n",
    "    Z9 = tf.concat([Z9,Z1],3)\n",
    "    Z9 = tf.nn.relu(tf.nn.conv2d(Z9, CONV_9_2, strides=[1,1,1,1], padding='SAME'))\n",
    "    D9 = tf.nn.dropout(Z9, keep_prob = 0.9)\n",
    "    Z9 = tf.nn.relu(tf.nn.conv2d(D9, CONV_9_3, strides=[1,1,1,1], padding='SAME'))\n",
    "    \n",
    "    tf.summary.histogram('deconv_Z6', Z9)\n",
    "    \n",
    "    output = tf.nn.sigmoid(tf.nn.conv2d(Z9, CONV_OUT, strides=[1,1,1,1], padding='SAME'))\n",
    "    tf.summary.histogram('activations', output)\n",
    "    \n",
    "    return output"
   ]
  },
  {
   "cell_type": "code",
   "execution_count": 23,
   "metadata": {
    "_cell_guid": "ce7e6d3a-2ba0-48da-b16c-38ba08d0967a",
    "_uuid": "7361f86f3e19af362753df26e7570a6bdfb0e4a2"
   },
   "outputs": [],
   "source": [
    "def group_list(data_list, group_size):\n",
    "    \"\"\"\n",
    "    Yields groups from l sized group_size\n",
    "    Args:\n",
    "        data_list: list\n",
    "        group_size: size of group\n",
    "    \n",
    "    Returns\n",
    "    yield\n",
    "    \"\"\"\n",
    "    for i in range(0, len(data_list), group_size):\n",
    "        yield data_list[i:i+group_size]"
   ]
  },
  {
   "cell_type": "code",
   "execution_count": 24,
   "metadata": {
    "_cell_guid": "70550d5a-fe6d-473d-8b64-28bbbf8887e8",
    "_uuid": "2b8eabac442900d5631fbaa50d54787ad8259eaf"
   },
   "outputs": [],
   "source": [
    "predictions = forward_propagation(X)"
   ]
  },
  {
   "cell_type": "code",
   "execution_count": 25,
   "metadata": {
    "_cell_guid": "d43000a3-190a-459d-86b3-6cbcfb56fbae",
    "_uuid": "243b578808fbbaf16cf8e87b70c9ac454811f6aa"
   },
   "outputs": [
    {
     "data": {
      "text/plain": [
       "<tf.Tensor 'cost:0' shape=() dtype=string>"
      ]
     },
     "execution_count": 25,
     "metadata": {},
     "output_type": "execute_result"
    }
   ],
   "source": [
    "loss = tf.keras.losses.binary_crossentropy(Y,predictions)\n",
    "cost = tf.reduce_mean(loss)\n",
    "tf.summary.scalar('cost', cost)"
   ]
  },
  {
   "cell_type": "markdown",
   "metadata": {
    "_cell_guid": "aefdc534-f433-430b-a55a-ec4892b3c0c9",
    "_uuid": "1af323d7ced2fc8b55f6857040c6b1a9f63f6787"
   },
   "source": [
    "##### Intersection over union score"
   ]
  },
  {
   "cell_type": "code",
   "execution_count": 26,
   "metadata": {
    "_cell_guid": "b31d2b37-e30b-4ebc-bfc6-170e9fc22cc5",
    "_uuid": "42f32107a4f1ee486a3442207d8b2f4c37b7f7ea"
   },
   "outputs": [
    {
     "data": {
      "text/plain": [
       "<tf.Tensor 'intersection_overunion:0' shape=() dtype=string>"
      ]
     },
     "execution_count": 26,
     "metadata": {},
     "output_type": "execute_result"
    }
   ],
   "source": [
    "prediction_mask = tf.to_int64(predictions > 0.5)\n",
    "iou_score, update_op = tf.metrics.mean_iou(Y, prediction_mask, 2)\n",
    "with tf.control_dependencies([update_op]):\n",
    "    iou_score = tf.identity(iou_score)\n",
    "tf.summary.scalar('intersection_overunion', iou_score)"
   ]
  },
  {
   "cell_type": "markdown",
   "metadata": {
    "_cell_guid": "e8fd7dfd-cf26-45ae-a818-e5b0e6159325",
    "_uuid": "f04abc2d647143e0d4052d1293969dbb40c8aeb9"
   },
   "source": [
    "##### Stats"
   ]
  },
  {
   "cell_type": "code",
   "execution_count": 27,
   "metadata": {
    "_cell_guid": "666cb6db-cdce-439f-ac02-7c0582cd9963",
    "_uuid": "1717e12d43dc4ec8b56406c5abb6e2c5a65bf5ee"
   },
   "outputs": [],
   "source": [
    "merged_summary = tf.summary.merge_all()\n",
    "train_writer = tf.summary.FileWriter('train')\n",
    "test_writer = tf.summary.FileWriter('test')"
   ]
  },
  {
   "cell_type": "code",
   "execution_count": 28,
   "metadata": {
    "_cell_guid": "4ceccf19-cb3b-4d48-b6ad-fd76fe86345c",
    "_uuid": "023f849a60a189ca3e2941f2953f73a4aac8e3e5"
   },
   "outputs": [],
   "source": [
    "def model(train_X, train_Y, test_X, test_Y, epochs, batch_size = 50, learning_rate = 0.005, save = -1, restore= -1):    \n",
    "    optimizer = tf.train.AdamOptimizer(learning_rate).minimize(cost)\n",
    "    init = tf.global_variables_initializer()\n",
    "    init_l = tf.local_variables_initializer()\n",
    "    saver = tf.train.Saver()\n",
    "    sess = tf.Session();\n",
    "    if(True):\n",
    "        if(restore!=-1):        \n",
    "            saver.restore(sess,\"saved_model/model_\" + str(restore))\n",
    "        else:\n",
    "            sess.run(init);\n",
    "            sess.run(init_l)\n",
    "            \n",
    "        \n",
    "        for epoch in range(epochs):\n",
    "            start_time = time.time()\n",
    "            train_X_batches = group_list(train_X,batch_size)\n",
    "            train_Y_batches = group_list(train_Y,batch_size)\n",
    "            t_number_of_batches = len(train_X) // batch_size\n",
    "            \n",
    "            avg_cost_value = 0.\n",
    "            \n",
    "            avg_iou = 0.\n",
    "            \n",
    "            for index in range(0,t_number_of_batches):                \n",
    "                train_row_X = next(train_X_batches)\n",
    "                \n",
    "                train_row_Y = next(train_Y_batches)\n",
    "                \n",
    "                summary,opt, cost_value, iou_score_training = sess.run([merged_summary,optimizer, cost, iou_score],feed_dict={X: train_row_X, Y: train_row_Y})\n",
    "                train_writer.add_summary(summary, epoch)\n",
    "                avg_cost_value += cost_value / t_number_of_batches\n",
    "                avg_iou += iou_score_training / t_number_of_batches\n",
    "                \n",
    "            summary,test_cost_value, t_iou_score = sess.run([merged_summary,cost,iou_score],feed_dict={X: test_X, Y: test_Y})\n",
    "            duration = time.time() - start_time\n",
    "            test_writer.add_summary(summary, epoch)\n",
    "            print(\"Epoch \" '%03d' % (epoch+1), \n",
    "                  \": training cost = \", avg_cost_value,\n",
    "                  \" IOU score =  \", avg_iou ,\n",
    "                  \" test cost = \", test_cost_value,\n",
    "                  \" IOU score\", t_iou_score,\n",
    "                  \" : in \", duration, \"s\")\n",
    "                    \n",
    "        return sess"
   ]
  },
  {
   "cell_type": "code",
   "execution_count": 36,
   "metadata": {},
   "outputs": [
    {
     "name": "stdout",
     "output_type": "stream",
     "text": [
      "[array([[[False],\n",
      "        [False],\n",
      "        [False],\n",
      "        ...,\n",
      "        [False],\n",
      "        [False],\n",
      "        [False]],\n",
      "\n",
      "       [[False],\n",
      "        [False],\n",
      "        [False],\n",
      "        ...,\n",
      "        [False],\n",
      "        [False],\n",
      "        [False]],\n",
      "\n",
      "       [[False],\n",
      "        [False],\n",
      "        [False],\n",
      "        ...,\n",
      "        [False],\n",
      "        [False],\n",
      "        [False]],\n",
      "\n",
      "       ...,\n",
      "\n",
      "       [[False],\n",
      "        [False],\n",
      "        [False],\n",
      "        ...,\n",
      "        [False],\n",
      "        [False],\n",
      "        [False]],\n",
      "\n",
      "       [[False],\n",
      "        [False],\n",
      "        [False],\n",
      "        ...,\n",
      "        [False],\n",
      "        [False],\n",
      "        [False]],\n",
      "\n",
      "       [[False],\n",
      "        [False],\n",
      "        [False],\n",
      "        ...,\n",
      "        [False],\n",
      "        [False],\n",
      "        [False]]]), array([[[False],\n",
      "        [False],\n",
      "        [False],\n",
      "        ...,\n",
      "        [False],\n",
      "        [False],\n",
      "        [False]],\n",
      "\n",
      "       [[False],\n",
      "        [False],\n",
      "        [False],\n",
      "        ...,\n",
      "        [False],\n",
      "        [False],\n",
      "        [False]],\n",
      "\n",
      "       [[False],\n",
      "        [False],\n",
      "        [False],\n",
      "        ...,\n",
      "        [False],\n",
      "        [False],\n",
      "        [False]],\n",
      "\n",
      "       ...,\n",
      "\n",
      "       [[False],\n",
      "        [False],\n",
      "        [False],\n",
      "        ...,\n",
      "        [False],\n",
      "        [False],\n",
      "        [False]],\n",
      "\n",
      "       [[False],\n",
      "        [False],\n",
      "        [False],\n",
      "        ...,\n",
      "        [False],\n",
      "        [False],\n",
      "        [False]],\n",
      "\n",
      "       [[False],\n",
      "        [False],\n",
      "        [False],\n",
      "        ...,\n",
      "        [False],\n",
      "        [False],\n",
      "        [False]]]), array([[[False],\n",
      "        [False],\n",
      "        [False],\n",
      "        ...,\n",
      "        [False],\n",
      "        [False],\n",
      "        [False]],\n",
      "\n",
      "       [[False],\n",
      "        [False],\n",
      "        [False],\n",
      "        ...,\n",
      "        [False],\n",
      "        [False],\n",
      "        [False]],\n",
      "\n",
      "       [[False],\n",
      "        [False],\n",
      "        [False],\n",
      "        ...,\n",
      "        [False],\n",
      "        [False],\n",
      "        [False]],\n",
      "\n",
      "       ...,\n",
      "\n",
      "       [[False],\n",
      "        [False],\n",
      "        [False],\n",
      "        ...,\n",
      "        [False],\n",
      "        [False],\n",
      "        [False]],\n",
      "\n",
      "       [[False],\n",
      "        [False],\n",
      "        [False],\n",
      "        ...,\n",
      "        [False],\n",
      "        [False],\n",
      "        [False]],\n",
      "\n",
      "       [[False],\n",
      "        [False],\n",
      "        [False],\n",
      "        ...,\n",
      "        [False],\n",
      "        [False],\n",
      "        [False]]]), array([[[False],\n",
      "        [False],\n",
      "        [False],\n",
      "        ...,\n",
      "        [False],\n",
      "        [False],\n",
      "        [False]],\n",
      "\n",
      "       [[False],\n",
      "        [False],\n",
      "        [False],\n",
      "        ...,\n",
      "        [False],\n",
      "        [False],\n",
      "        [False]],\n",
      "\n",
      "       [[False],\n",
      "        [False],\n",
      "        [False],\n",
      "        ...,\n",
      "        [False],\n",
      "        [False],\n",
      "        [False]],\n",
      "\n",
      "       ...,\n",
      "\n",
      "       [[False],\n",
      "        [False],\n",
      "        [False],\n",
      "        ...,\n",
      "        [False],\n",
      "        [False],\n",
      "        [False]],\n",
      "\n",
      "       [[False],\n",
      "        [False],\n",
      "        [False],\n",
      "        ...,\n",
      "        [False],\n",
      "        [False],\n",
      "        [False]],\n",
      "\n",
      "       [[False],\n",
      "        [False],\n",
      "        [False],\n",
      "        ...,\n",
      "        [False],\n",
      "        [False],\n",
      "        [False]]]), array([[[False],\n",
      "        [False],\n",
      "        [False],\n",
      "        ...,\n",
      "        [False],\n",
      "        [False],\n",
      "        [False]],\n",
      "\n",
      "       [[False],\n",
      "        [False],\n",
      "        [False],\n",
      "        ...,\n",
      "        [False],\n",
      "        [False],\n",
      "        [False]],\n",
      "\n",
      "       [[False],\n",
      "        [False],\n",
      "        [False],\n",
      "        ...,\n",
      "        [False],\n",
      "        [False],\n",
      "        [False]],\n",
      "\n",
      "       ...,\n",
      "\n",
      "       [[False],\n",
      "        [False],\n",
      "        [False],\n",
      "        ...,\n",
      "        [False],\n",
      "        [False],\n",
      "        [False]],\n",
      "\n",
      "       [[False],\n",
      "        [False],\n",
      "        [False],\n",
      "        ...,\n",
      "        [False],\n",
      "        [False],\n",
      "        [False]],\n",
      "\n",
      "       [[False],\n",
      "        [False],\n",
      "        [False],\n",
      "        ...,\n",
      "        [False],\n",
      "        [False],\n",
      "        [False]]])]\n"
     ]
    }
   ],
   "source": [
    "#print (train_X[3:,:,:,:])\n",
    "print (train_Y[5:])"
   ]
  },
  {
   "cell_type": "code",
   "execution_count": 39,
   "metadata": {
    "_cell_guid": "3266ff66-cf65-44a8-bede-3dabab3f1841",
    "_uuid": "219cbec4459bbcfa41bf0e2ac1c91762d7b96766"
   },
   "outputs": [
    {
     "ename": "InvalidArgumentError",
     "evalue": "Conv2DCustomBackpropInput: Size of out_backprop doesn't match computed: actual = 528, computed = 16 spatial_dim: 1 input: 32 filter: 2 output: 528 stride: 2 dilation: 1\n\t [[{{node conv2d_transpose}} = Conv2DBackpropInput[T=DT_FLOAT, data_format=\"NHWC\", dilations=[1, 1, 1, 1], padding=\"VALID\", strides=[1, 2, 2, 1], use_cudnn_on_gpu=true, _device=\"/job:localhost/replica:0/task:0/device:CPU:0\"](conv2d_transpose/output_shape, CONV_6_1/read, Relu_9)]]\n\nCaused by op 'conv2d_transpose', defined at:\n  File \"/home/jun_inthebay/anaconda3/lib/python3.6/runpy.py\", line 193, in _run_module_as_main\n    \"__main__\", mod_spec)\n  File \"/home/jun_inthebay/anaconda3/lib/python3.6/runpy.py\", line 85, in _run_code\n    exec(code, run_globals)\n  File \"/home/jun_inthebay/anaconda3/lib/python3.6/site-packages/ipykernel_launcher.py\", line 16, in <module>\n    app.launch_new_instance()\n  File \"/home/jun_inthebay/anaconda3/lib/python3.6/site-packages/traitlets/config/application.py\", line 658, in launch_instance\n    app.start()\n  File \"/home/jun_inthebay/anaconda3/lib/python3.6/site-packages/ipykernel/kernelapp.py\", line 497, in start\n    self.io_loop.start()\n  File \"/home/jun_inthebay/anaconda3/lib/python3.6/site-packages/tornado/platform/asyncio.py\", line 132, in start\n    self.asyncio_loop.run_forever()\n  File \"/home/jun_inthebay/anaconda3/lib/python3.6/asyncio/base_events.py\", line 422, in run_forever\n    self._run_once()\n  File \"/home/jun_inthebay/anaconda3/lib/python3.6/asyncio/base_events.py\", line 1434, in _run_once\n    handle._run()\n  File \"/home/jun_inthebay/anaconda3/lib/python3.6/asyncio/events.py\", line 145, in _run\n    self._callback(*self._args)\n  File \"/home/jun_inthebay/anaconda3/lib/python3.6/site-packages/tornado/ioloop.py\", line 758, in _run_callback\n    ret = callback()\n  File \"/home/jun_inthebay/anaconda3/lib/python3.6/site-packages/tornado/stack_context.py\", line 300, in null_wrapper\n    return fn(*args, **kwargs)\n  File \"/home/jun_inthebay/anaconda3/lib/python3.6/site-packages/zmq/eventloop/zmqstream.py\", line 536, in <lambda>\n    self.io_loop.add_callback(lambda : self._handle_events(self.socket, 0))\n  File \"/home/jun_inthebay/anaconda3/lib/python3.6/site-packages/zmq/eventloop/zmqstream.py\", line 450, in _handle_events\n    self._handle_recv()\n  File \"/home/jun_inthebay/anaconda3/lib/python3.6/site-packages/zmq/eventloop/zmqstream.py\", line 480, in _handle_recv\n    self._run_callback(callback, msg)\n  File \"/home/jun_inthebay/anaconda3/lib/python3.6/site-packages/zmq/eventloop/zmqstream.py\", line 432, in _run_callback\n    callback(*args, **kwargs)\n  File \"/home/jun_inthebay/anaconda3/lib/python3.6/site-packages/tornado/stack_context.py\", line 300, in null_wrapper\n    return fn(*args, **kwargs)\n  File \"/home/jun_inthebay/anaconda3/lib/python3.6/site-packages/ipykernel/kernelbase.py\", line 283, in dispatcher\n    return self.dispatch_shell(stream, msg)\n  File \"/home/jun_inthebay/anaconda3/lib/python3.6/site-packages/ipykernel/kernelbase.py\", line 233, in dispatch_shell\n    handler(stream, idents, msg)\n  File \"/home/jun_inthebay/anaconda3/lib/python3.6/site-packages/ipykernel/kernelbase.py\", line 399, in execute_request\n    user_expressions, allow_stdin)\n  File \"/home/jun_inthebay/anaconda3/lib/python3.6/site-packages/ipykernel/ipkernel.py\", line 208, in do_execute\n    res = shell.run_cell(code, store_history=store_history, silent=silent)\n  File \"/home/jun_inthebay/anaconda3/lib/python3.6/site-packages/ipykernel/zmqshell.py\", line 537, in run_cell\n    return super(ZMQInteractiveShell, self).run_cell(*args, **kwargs)\n  File \"/home/jun_inthebay/anaconda3/lib/python3.6/site-packages/IPython/core/interactiveshell.py\", line 2662, in run_cell\n    raw_cell, store_history, silent, shell_futures)\n  File \"/home/jun_inthebay/anaconda3/lib/python3.6/site-packages/IPython/core/interactiveshell.py\", line 2785, in _run_cell\n    interactivity=interactivity, compiler=compiler, result=result)\n  File \"/home/jun_inthebay/anaconda3/lib/python3.6/site-packages/IPython/core/interactiveshell.py\", line 2901, in run_ast_nodes\n    if self.run_code(code, result):\n  File \"/home/jun_inthebay/anaconda3/lib/python3.6/site-packages/IPython/core/interactiveshell.py\", line 2961, in run_code\n    exec(code_obj, self.user_global_ns, self.user_ns)\n  File \"<ipython-input-24-0434c1cc4abf>\", line 1, in <module>\n    predictions = forward_propagation(X)\n  File \"<ipython-input-22-f2e3faad8f21>\", line 73, in forward_propagation\n    Z6 = tf.nn.conv2d_transpose(Z5, CONV_6_1, [batch_size,32,32,128], strides = [1,2,2,1], padding='VALID')\n  File \"/home/jun_inthebay/.local/lib/python3.6/site-packages/tensorflow/python/ops/nn_ops.py\", line 1255, in conv2d_transpose\n    name=name)\n  File \"/home/jun_inthebay/.local/lib/python3.6/site-packages/tensorflow/python/ops/gen_nn_ops.py\", line 1229, in conv2d_backprop_input\n    dilations=dilations, name=name)\n  File \"/home/jun_inthebay/.local/lib/python3.6/site-packages/tensorflow/python/framework/op_def_library.py\", line 787, in _apply_op_helper\n    op_def=op_def)\n  File \"/home/jun_inthebay/.local/lib/python3.6/site-packages/tensorflow/python/util/deprecation.py\", line 488, in new_func\n    return func(*args, **kwargs)\n  File \"/home/jun_inthebay/.local/lib/python3.6/site-packages/tensorflow/python/framework/ops.py\", line 3272, in create_op\n    op_def=op_def)\n  File \"/home/jun_inthebay/.local/lib/python3.6/site-packages/tensorflow/python/framework/ops.py\", line 1768, in __init__\n    self._traceback = tf_stack.extract_stack()\n\nInvalidArgumentError (see above for traceback): Conv2DCustomBackpropInput: Size of out_backprop doesn't match computed: actual = 528, computed = 16 spatial_dim: 1 input: 32 filter: 2 output: 528 stride: 2 dilation: 1\n\t [[{{node conv2d_transpose}} = Conv2DBackpropInput[T=DT_FLOAT, data_format=\"NHWC\", dilations=[1, 1, 1, 1], padding=\"VALID\", strides=[1, 2, 2, 1], use_cudnn_on_gpu=true, _device=\"/job:localhost/replica:0/task:0/device:CPU:0\"](conv2d_transpose/output_shape, CONV_6_1/read, Relu_9)]]\n",
     "output_type": "error",
     "traceback": [
      "\u001b[0;31m---------------------------------------------------------------------------\u001b[0m",
      "\u001b[0;31mInvalidArgumentError\u001b[0m                      Traceback (most recent call last)",
      "\u001b[0;32m~/.local/lib/python3.6/site-packages/tensorflow/python/client/session.py\u001b[0m in \u001b[0;36m_do_call\u001b[0;34m(self, fn, *args)\u001b[0m\n\u001b[1;32m   1291\u001b[0m     \u001b[0;32mtry\u001b[0m\u001b[0;34m:\u001b[0m\u001b[0;34m\u001b[0m\u001b[0m\n\u001b[0;32m-> 1292\u001b[0;31m       \u001b[0;32mreturn\u001b[0m \u001b[0mfn\u001b[0m\u001b[0;34m(\u001b[0m\u001b[0;34m*\u001b[0m\u001b[0margs\u001b[0m\u001b[0;34m)\u001b[0m\u001b[0;34m\u001b[0m\u001b[0m\n\u001b[0m\u001b[1;32m   1293\u001b[0m     \u001b[0;32mexcept\u001b[0m \u001b[0merrors\u001b[0m\u001b[0;34m.\u001b[0m\u001b[0mOpError\u001b[0m \u001b[0;32mas\u001b[0m \u001b[0me\u001b[0m\u001b[0;34m:\u001b[0m\u001b[0;34m\u001b[0m\u001b[0m\n",
      "\u001b[0;32m~/.local/lib/python3.6/site-packages/tensorflow/python/client/session.py\u001b[0m in \u001b[0;36m_run_fn\u001b[0;34m(feed_dict, fetch_list, target_list, options, run_metadata)\u001b[0m\n\u001b[1;32m   1276\u001b[0m       return self._call_tf_sessionrun(\n\u001b[0;32m-> 1277\u001b[0;31m           options, feed_dict, fetch_list, target_list, run_metadata)\n\u001b[0m\u001b[1;32m   1278\u001b[0m \u001b[0;34m\u001b[0m\u001b[0m\n",
      "\u001b[0;32m~/.local/lib/python3.6/site-packages/tensorflow/python/client/session.py\u001b[0m in \u001b[0;36m_call_tf_sessionrun\u001b[0;34m(self, options, feed_dict, fetch_list, target_list, run_metadata)\u001b[0m\n\u001b[1;32m   1366\u001b[0m         \u001b[0mself\u001b[0m\u001b[0;34m.\u001b[0m\u001b[0m_session\u001b[0m\u001b[0;34m,\u001b[0m \u001b[0moptions\u001b[0m\u001b[0;34m,\u001b[0m \u001b[0mfeed_dict\u001b[0m\u001b[0;34m,\u001b[0m \u001b[0mfetch_list\u001b[0m\u001b[0;34m,\u001b[0m \u001b[0mtarget_list\u001b[0m\u001b[0;34m,\u001b[0m\u001b[0;34m\u001b[0m\u001b[0m\n\u001b[0;32m-> 1367\u001b[0;31m         run_metadata)\n\u001b[0m\u001b[1;32m   1368\u001b[0m \u001b[0;34m\u001b[0m\u001b[0m\n",
      "\u001b[0;31mInvalidArgumentError\u001b[0m: Conv2DCustomBackpropInput: Size of out_backprop doesn't match computed: actual = 528, computed = 16 spatial_dim: 1 input: 32 filter: 2 output: 528 stride: 2 dilation: 1\n\t [[{{node conv2d_transpose}} = Conv2DBackpropInput[T=DT_FLOAT, data_format=\"NHWC\", dilations=[1, 1, 1, 1], padding=\"VALID\", strides=[1, 2, 2, 1], use_cudnn_on_gpu=true, _device=\"/job:localhost/replica:0/task:0/device:CPU:0\"](conv2d_transpose/output_shape, CONV_6_1/read, Relu_9)]]",
      "\nDuring handling of the above exception, another exception occurred:\n",
      "\u001b[0;31mInvalidArgumentError\u001b[0m                      Traceback (most recent call last)",
      "\u001b[0;32m<ipython-input-39-fcf2c40e39ac>\u001b[0m in \u001b[0;36m<module>\u001b[0;34m()\u001b[0m\n\u001b[1;32m      3\u001b[0m              \u001b[0mtrain_X\u001b[0m\u001b[0;34m[\u001b[0m\u001b[0;34m(\u001b[0m\u001b[0msamples\u001b[0m \u001b[0;34m-\u001b[0m \u001b[0;36m1\u001b[0m\u001b[0;34m)\u001b[0m\u001b[0;34m:\u001b[0m\u001b[0;34m,\u001b[0m\u001b[0;34m:\u001b[0m\u001b[0;34m,\u001b[0m\u001b[0;34m:\u001b[0m\u001b[0;34m,\u001b[0m\u001b[0;34m:\u001b[0m\u001b[0;34m]\u001b[0m\u001b[0;34m,\u001b[0m\u001b[0;34m\u001b[0m\u001b[0m\n\u001b[1;32m      4\u001b[0m              \u001b[0mtrain_Y\u001b[0m\u001b[0;34m[\u001b[0m\u001b[0;34m(\u001b[0m\u001b[0msamples\u001b[0m \u001b[0;34m-\u001b[0m \u001b[0;36m1\u001b[0m\u001b[0;34m)\u001b[0m\u001b[0;34m:\u001b[0m\u001b[0;34m]\u001b[0m\u001b[0;34m,\u001b[0m\u001b[0;34m\u001b[0m\u001b[0m\n\u001b[0;32m----> 5\u001b[0;31m              epochs = 1, batch_size = 10)\n\u001b[0m",
      "\u001b[0;32m<ipython-input-28-d910a7cd0b7e>\u001b[0m in \u001b[0;36mmodel\u001b[0;34m(train_X, train_Y, test_X, test_Y, epochs, batch_size, learning_rate, save, restore)\u001b[0m\n\u001b[1;32m     33\u001b[0m                 \u001b[0mavg_iou\u001b[0m \u001b[0;34m+=\u001b[0m \u001b[0miou_score_training\u001b[0m \u001b[0;34m/\u001b[0m \u001b[0mt_number_of_batches\u001b[0m\u001b[0;34m\u001b[0m\u001b[0m\n\u001b[1;32m     34\u001b[0m \u001b[0;34m\u001b[0m\u001b[0m\n\u001b[0;32m---> 35\u001b[0;31m             \u001b[0msummary\u001b[0m\u001b[0;34m,\u001b[0m\u001b[0mtest_cost_value\u001b[0m\u001b[0;34m,\u001b[0m \u001b[0mt_iou_score\u001b[0m \u001b[0;34m=\u001b[0m \u001b[0msess\u001b[0m\u001b[0;34m.\u001b[0m\u001b[0mrun\u001b[0m\u001b[0;34m(\u001b[0m\u001b[0;34m[\u001b[0m\u001b[0mmerged_summary\u001b[0m\u001b[0;34m,\u001b[0m\u001b[0mcost\u001b[0m\u001b[0;34m,\u001b[0m\u001b[0miou_score\u001b[0m\u001b[0;34m]\u001b[0m\u001b[0;34m,\u001b[0m\u001b[0mfeed_dict\u001b[0m\u001b[0;34m=\u001b[0m\u001b[0;34m{\u001b[0m\u001b[0mX\u001b[0m\u001b[0;34m:\u001b[0m \u001b[0mtest_X\u001b[0m\u001b[0;34m,\u001b[0m \u001b[0mY\u001b[0m\u001b[0;34m:\u001b[0m \u001b[0mtest_Y\u001b[0m\u001b[0;34m}\u001b[0m\u001b[0;34m)\u001b[0m\u001b[0;34m\u001b[0m\u001b[0m\n\u001b[0m\u001b[1;32m     36\u001b[0m             \u001b[0mduration\u001b[0m \u001b[0;34m=\u001b[0m \u001b[0mtime\u001b[0m\u001b[0;34m.\u001b[0m\u001b[0mtime\u001b[0m\u001b[0;34m(\u001b[0m\u001b[0;34m)\u001b[0m \u001b[0;34m-\u001b[0m \u001b[0mstart_time\u001b[0m\u001b[0;34m\u001b[0m\u001b[0m\n\u001b[1;32m     37\u001b[0m             \u001b[0mtest_writer\u001b[0m\u001b[0;34m.\u001b[0m\u001b[0madd_summary\u001b[0m\u001b[0;34m(\u001b[0m\u001b[0msummary\u001b[0m\u001b[0;34m,\u001b[0m \u001b[0mepoch\u001b[0m\u001b[0;34m)\u001b[0m\u001b[0;34m\u001b[0m\u001b[0m\n",
      "\u001b[0;32m~/.local/lib/python3.6/site-packages/tensorflow/python/client/session.py\u001b[0m in \u001b[0;36mrun\u001b[0;34m(self, fetches, feed_dict, options, run_metadata)\u001b[0m\n\u001b[1;32m    885\u001b[0m     \u001b[0;32mtry\u001b[0m\u001b[0;34m:\u001b[0m\u001b[0;34m\u001b[0m\u001b[0m\n\u001b[1;32m    886\u001b[0m       result = self._run(None, fetches, feed_dict, options_ptr,\n\u001b[0;32m--> 887\u001b[0;31m                          run_metadata_ptr)\n\u001b[0m\u001b[1;32m    888\u001b[0m       \u001b[0;32mif\u001b[0m \u001b[0mrun_metadata\u001b[0m\u001b[0;34m:\u001b[0m\u001b[0;34m\u001b[0m\u001b[0m\n\u001b[1;32m    889\u001b[0m         \u001b[0mproto_data\u001b[0m \u001b[0;34m=\u001b[0m \u001b[0mtf_session\u001b[0m\u001b[0;34m.\u001b[0m\u001b[0mTF_GetBuffer\u001b[0m\u001b[0;34m(\u001b[0m\u001b[0mrun_metadata_ptr\u001b[0m\u001b[0;34m)\u001b[0m\u001b[0;34m\u001b[0m\u001b[0m\n",
      "\u001b[0;32m~/.local/lib/python3.6/site-packages/tensorflow/python/client/session.py\u001b[0m in \u001b[0;36m_run\u001b[0;34m(self, handle, fetches, feed_dict, options, run_metadata)\u001b[0m\n\u001b[1;32m   1108\u001b[0m     \u001b[0;32mif\u001b[0m \u001b[0mfinal_fetches\u001b[0m \u001b[0;32mor\u001b[0m \u001b[0mfinal_targets\u001b[0m \u001b[0;32mor\u001b[0m \u001b[0;34m(\u001b[0m\u001b[0mhandle\u001b[0m \u001b[0;32mand\u001b[0m \u001b[0mfeed_dict_tensor\u001b[0m\u001b[0;34m)\u001b[0m\u001b[0;34m:\u001b[0m\u001b[0;34m\u001b[0m\u001b[0m\n\u001b[1;32m   1109\u001b[0m       results = self._do_run(handle, final_targets, final_fetches,\n\u001b[0;32m-> 1110\u001b[0;31m                              feed_dict_tensor, options, run_metadata)\n\u001b[0m\u001b[1;32m   1111\u001b[0m     \u001b[0;32melse\u001b[0m\u001b[0;34m:\u001b[0m\u001b[0;34m\u001b[0m\u001b[0m\n\u001b[1;32m   1112\u001b[0m       \u001b[0mresults\u001b[0m \u001b[0;34m=\u001b[0m \u001b[0;34m[\u001b[0m\u001b[0;34m]\u001b[0m\u001b[0;34m\u001b[0m\u001b[0m\n",
      "\u001b[0;32m~/.local/lib/python3.6/site-packages/tensorflow/python/client/session.py\u001b[0m in \u001b[0;36m_do_run\u001b[0;34m(self, handle, target_list, fetch_list, feed_dict, options, run_metadata)\u001b[0m\n\u001b[1;32m   1284\u001b[0m     \u001b[0;32mif\u001b[0m \u001b[0mhandle\u001b[0m \u001b[0;32mis\u001b[0m \u001b[0;32mNone\u001b[0m\u001b[0;34m:\u001b[0m\u001b[0;34m\u001b[0m\u001b[0m\n\u001b[1;32m   1285\u001b[0m       return self._do_call(_run_fn, feeds, fetches, targets, options,\n\u001b[0;32m-> 1286\u001b[0;31m                            run_metadata)\n\u001b[0m\u001b[1;32m   1287\u001b[0m     \u001b[0;32melse\u001b[0m\u001b[0;34m:\u001b[0m\u001b[0;34m\u001b[0m\u001b[0m\n\u001b[1;32m   1288\u001b[0m       \u001b[0;32mreturn\u001b[0m \u001b[0mself\u001b[0m\u001b[0;34m.\u001b[0m\u001b[0m_do_call\u001b[0m\u001b[0;34m(\u001b[0m\u001b[0m_prun_fn\u001b[0m\u001b[0;34m,\u001b[0m \u001b[0mhandle\u001b[0m\u001b[0;34m,\u001b[0m \u001b[0mfeeds\u001b[0m\u001b[0;34m,\u001b[0m \u001b[0mfetches\u001b[0m\u001b[0;34m)\u001b[0m\u001b[0;34m\u001b[0m\u001b[0m\n",
      "\u001b[0;32m~/.local/lib/python3.6/site-packages/tensorflow/python/client/session.py\u001b[0m in \u001b[0;36m_do_call\u001b[0;34m(self, fn, *args)\u001b[0m\n\u001b[1;32m   1306\u001b[0m           self._config.experimental.client_handles_error_formatting):\n\u001b[1;32m   1307\u001b[0m         \u001b[0mmessage\u001b[0m \u001b[0;34m=\u001b[0m \u001b[0merror_interpolation\u001b[0m\u001b[0;34m.\u001b[0m\u001b[0minterpolate\u001b[0m\u001b[0;34m(\u001b[0m\u001b[0mmessage\u001b[0m\u001b[0;34m,\u001b[0m \u001b[0mself\u001b[0m\u001b[0;34m.\u001b[0m\u001b[0m_graph\u001b[0m\u001b[0;34m)\u001b[0m\u001b[0;34m\u001b[0m\u001b[0m\n\u001b[0;32m-> 1308\u001b[0;31m       \u001b[0;32mraise\u001b[0m \u001b[0mtype\u001b[0m\u001b[0;34m(\u001b[0m\u001b[0me\u001b[0m\u001b[0;34m)\u001b[0m\u001b[0;34m(\u001b[0m\u001b[0mnode_def\u001b[0m\u001b[0;34m,\u001b[0m \u001b[0mop\u001b[0m\u001b[0;34m,\u001b[0m \u001b[0mmessage\u001b[0m\u001b[0;34m)\u001b[0m\u001b[0;34m\u001b[0m\u001b[0m\n\u001b[0m\u001b[1;32m   1309\u001b[0m \u001b[0;34m\u001b[0m\u001b[0m\n\u001b[1;32m   1310\u001b[0m   \u001b[0;32mdef\u001b[0m \u001b[0m_extend_graph\u001b[0m\u001b[0;34m(\u001b[0m\u001b[0mself\u001b[0m\u001b[0;34m)\u001b[0m\u001b[0;34m:\u001b[0m\u001b[0;34m\u001b[0m\u001b[0m\n",
      "\u001b[0;31mInvalidArgumentError\u001b[0m: Conv2DCustomBackpropInput: Size of out_backprop doesn't match computed: actual = 528, computed = 16 spatial_dim: 1 input: 32 filter: 2 output: 528 stride: 2 dilation: 1\n\t [[{{node conv2d_transpose}} = Conv2DBackpropInput[T=DT_FLOAT, data_format=\"NHWC\", dilations=[1, 1, 1, 1], padding=\"VALID\", strides=[1, 2, 2, 1], use_cudnn_on_gpu=true, _device=\"/job:localhost/replica:0/task:0/device:CPU:0\"](conv2d_transpose/output_shape, CONV_6_1/read, Relu_9)]]\n\nCaused by op 'conv2d_transpose', defined at:\n  File \"/home/jun_inthebay/anaconda3/lib/python3.6/runpy.py\", line 193, in _run_module_as_main\n    \"__main__\", mod_spec)\n  File \"/home/jun_inthebay/anaconda3/lib/python3.6/runpy.py\", line 85, in _run_code\n    exec(code, run_globals)\n  File \"/home/jun_inthebay/anaconda3/lib/python3.6/site-packages/ipykernel_launcher.py\", line 16, in <module>\n    app.launch_new_instance()\n  File \"/home/jun_inthebay/anaconda3/lib/python3.6/site-packages/traitlets/config/application.py\", line 658, in launch_instance\n    app.start()\n  File \"/home/jun_inthebay/anaconda3/lib/python3.6/site-packages/ipykernel/kernelapp.py\", line 497, in start\n    self.io_loop.start()\n  File \"/home/jun_inthebay/anaconda3/lib/python3.6/site-packages/tornado/platform/asyncio.py\", line 132, in start\n    self.asyncio_loop.run_forever()\n  File \"/home/jun_inthebay/anaconda3/lib/python3.6/asyncio/base_events.py\", line 422, in run_forever\n    self._run_once()\n  File \"/home/jun_inthebay/anaconda3/lib/python3.6/asyncio/base_events.py\", line 1434, in _run_once\n    handle._run()\n  File \"/home/jun_inthebay/anaconda3/lib/python3.6/asyncio/events.py\", line 145, in _run\n    self._callback(*self._args)\n  File \"/home/jun_inthebay/anaconda3/lib/python3.6/site-packages/tornado/ioloop.py\", line 758, in _run_callback\n    ret = callback()\n  File \"/home/jun_inthebay/anaconda3/lib/python3.6/site-packages/tornado/stack_context.py\", line 300, in null_wrapper\n    return fn(*args, **kwargs)\n  File \"/home/jun_inthebay/anaconda3/lib/python3.6/site-packages/zmq/eventloop/zmqstream.py\", line 536, in <lambda>\n    self.io_loop.add_callback(lambda : self._handle_events(self.socket, 0))\n  File \"/home/jun_inthebay/anaconda3/lib/python3.6/site-packages/zmq/eventloop/zmqstream.py\", line 450, in _handle_events\n    self._handle_recv()\n  File \"/home/jun_inthebay/anaconda3/lib/python3.6/site-packages/zmq/eventloop/zmqstream.py\", line 480, in _handle_recv\n    self._run_callback(callback, msg)\n  File \"/home/jun_inthebay/anaconda3/lib/python3.6/site-packages/zmq/eventloop/zmqstream.py\", line 432, in _run_callback\n    callback(*args, **kwargs)\n  File \"/home/jun_inthebay/anaconda3/lib/python3.6/site-packages/tornado/stack_context.py\", line 300, in null_wrapper\n    return fn(*args, **kwargs)\n  File \"/home/jun_inthebay/anaconda3/lib/python3.6/site-packages/ipykernel/kernelbase.py\", line 283, in dispatcher\n    return self.dispatch_shell(stream, msg)\n  File \"/home/jun_inthebay/anaconda3/lib/python3.6/site-packages/ipykernel/kernelbase.py\", line 233, in dispatch_shell\n    handler(stream, idents, msg)\n  File \"/home/jun_inthebay/anaconda3/lib/python3.6/site-packages/ipykernel/kernelbase.py\", line 399, in execute_request\n    user_expressions, allow_stdin)\n  File \"/home/jun_inthebay/anaconda3/lib/python3.6/site-packages/ipykernel/ipkernel.py\", line 208, in do_execute\n    res = shell.run_cell(code, store_history=store_history, silent=silent)\n  File \"/home/jun_inthebay/anaconda3/lib/python3.6/site-packages/ipykernel/zmqshell.py\", line 537, in run_cell\n    return super(ZMQInteractiveShell, self).run_cell(*args, **kwargs)\n  File \"/home/jun_inthebay/anaconda3/lib/python3.6/site-packages/IPython/core/interactiveshell.py\", line 2662, in run_cell\n    raw_cell, store_history, silent, shell_futures)\n  File \"/home/jun_inthebay/anaconda3/lib/python3.6/site-packages/IPython/core/interactiveshell.py\", line 2785, in _run_cell\n    interactivity=interactivity, compiler=compiler, result=result)\n  File \"/home/jun_inthebay/anaconda3/lib/python3.6/site-packages/IPython/core/interactiveshell.py\", line 2901, in run_ast_nodes\n    if self.run_code(code, result):\n  File \"/home/jun_inthebay/anaconda3/lib/python3.6/site-packages/IPython/core/interactiveshell.py\", line 2961, in run_code\n    exec(code_obj, self.user_global_ns, self.user_ns)\n  File \"<ipython-input-24-0434c1cc4abf>\", line 1, in <module>\n    predictions = forward_propagation(X)\n  File \"<ipython-input-22-f2e3faad8f21>\", line 73, in forward_propagation\n    Z6 = tf.nn.conv2d_transpose(Z5, CONV_6_1, [batch_size,32,32,128], strides = [1,2,2,1], padding='VALID')\n  File \"/home/jun_inthebay/.local/lib/python3.6/site-packages/tensorflow/python/ops/nn_ops.py\", line 1255, in conv2d_transpose\n    name=name)\n  File \"/home/jun_inthebay/.local/lib/python3.6/site-packages/tensorflow/python/ops/gen_nn_ops.py\", line 1229, in conv2d_backprop_input\n    dilations=dilations, name=name)\n  File \"/home/jun_inthebay/.local/lib/python3.6/site-packages/tensorflow/python/framework/op_def_library.py\", line 787, in _apply_op_helper\n    op_def=op_def)\n  File \"/home/jun_inthebay/.local/lib/python3.6/site-packages/tensorflow/python/util/deprecation.py\", line 488, in new_func\n    return func(*args, **kwargs)\n  File \"/home/jun_inthebay/.local/lib/python3.6/site-packages/tensorflow/python/framework/ops.py\", line 3272, in create_op\n    op_def=op_def)\n  File \"/home/jun_inthebay/.local/lib/python3.6/site-packages/tensorflow/python/framework/ops.py\", line 1768, in __init__\n    self._traceback = tf_stack.extract_stack()\n\nInvalidArgumentError (see above for traceback): Conv2DCustomBackpropInput: Size of out_backprop doesn't match computed: actual = 528, computed = 16 spatial_dim: 1 input: 32 filter: 2 output: 528 stride: 2 dilation: 1\n\t [[{{node conv2d_transpose}} = Conv2DBackpropInput[T=DT_FLOAT, data_format=\"NHWC\", dilations=[1, 1, 1, 1], padding=\"VALID\", strides=[1, 2, 2, 1], use_cudnn_on_gpu=true, _device=\"/job:localhost/replica:0/task:0/device:CPU:0\"](conv2d_transpose/output_shape, CONV_6_1/read, Relu_9)]]\n"
     ]
    }
   ],
   "source": [
    "sess = model(train_X[:(samples - 1),:,:,:],\n",
    "             train_Y[:(samples - 1)],\n",
    "             train_X[(samples - 1):,:,:,:],\n",
    "             train_Y[(samples - 1):],\n",
    "             epochs = 1, batch_size = 10)"
   ]
  },
  {
   "cell_type": "code",
   "execution_count": null,
   "metadata": {
    "_cell_guid": "58b87571-9a02-4053-936d-7a933282ebed",
    "_uuid": "e143545c858f96672fc9b43bdf26f26f463a8e43"
   },
   "outputs": [],
   "source": [
    "pred_Y = sess.run([predictions],feed_dict={X: pred_X})"
   ]
  },
  {
   "cell_type": "code",
   "execution_count": null,
   "metadata": {
    "_cell_guid": "cc82dd80-12ab-4f38-9221-b0cf6b73ff7a",
    "_uuid": "ff7cdf205020e5fab6aca3447b0e5b99a61e8709"
   },
   "outputs": [],
   "source": [
    "f, arr = plt.subplots(3,2)\n",
    "arr[0][0].imshow(pred_X[0])\n",
    "arr[0][1].imshow(Util.convert_to_binary_image(pred_Y[0][1]).squeeze())\n",
    "arr[1][0].imshow(pred_X[1])\n",
    "arr[1][1].imshow(Util.convert_to_binary_image(pred_Y[0][2]).squeeze())\n",
    "arr[2][0].imshow(pred_X[2])\n",
    "arr[2][1].imshow(Util.convert_to_binary_image(pred_Y[0][3]).squeeze())"
   ]
  },
  {
   "cell_type": "markdown",
   "metadata": {},
   "source": [
    "## pred_Y"
   ]
  },
  {
   "cell_type": "code",
   "execution_count": null,
   "metadata": {},
   "outputs": [],
   "source": [
    "example = pred_Y[0][3]"
   ]
  },
  {
   "cell_type": "code",
   "execution_count": null,
   "metadata": {},
   "outputs": [],
   "source": [
    "example.shape"
   ]
  },
  {
   "cell_type": "code",
   "execution_count": null,
   "metadata": {},
   "outputs": [],
   "source": []
  },
  {
   "cell_type": "code",
   "execution_count": null,
   "metadata": {},
   "outputs": [],
   "source": []
  },
  {
   "cell_type": "code",
   "execution_count": null,
   "metadata": {},
   "outputs": [],
   "source": []
  },
  {
   "cell_type": "code",
   "execution_count": null,
   "metadata": {},
   "outputs": [],
   "source": []
  },
  {
   "cell_type": "code",
   "execution_count": null,
   "metadata": {},
   "outputs": [],
   "source": []
  },
  {
   "cell_type": "code",
   "execution_count": null,
   "metadata": {},
   "outputs": [],
   "source": []
  },
  {
   "cell_type": "code",
   "execution_count": null,
   "metadata": {},
   "outputs": [],
   "source": []
  },
  {
   "cell_type": "code",
   "execution_count": null,
   "metadata": {},
   "outputs": [],
   "source": []
  },
  {
   "cell_type": "code",
   "execution_count": null,
   "metadata": {},
   "outputs": [],
   "source": []
  },
  {
   "cell_type": "code",
   "execution_count": null,
   "metadata": {},
   "outputs": [],
   "source": []
  },
  {
   "cell_type": "code",
   "execution_count": null,
   "metadata": {},
   "outputs": [],
   "source": []
  },
  {
   "cell_type": "code",
   "execution_count": null,
   "metadata": {},
   "outputs": [],
   "source": []
  }
 ],
 "metadata": {
  "kernelspec": {
   "display_name": "Python 3",
   "language": "python",
   "name": "python3"
  },
  "language_info": {
   "codemirror_mode": {
    "name": "ipython",
    "version": 3
   },
   "file_extension": ".py",
   "mimetype": "text/x-python",
   "name": "python",
   "nbconvert_exporter": "python",
   "pygments_lexer": "ipython3",
   "version": "3.6.7"
  }
 },
 "nbformat": 4,
 "nbformat_minor": 1
}
